{
 "cells": [
  {
   "cell_type": "markdown",
   "execution_count": null,
   "metadata": {},
   "source": [
    "***This notebook is based on the \"Feature Engineering for NLP in Python for ML\" course at DataCamp***"
   ]
  },
  {
   "cell_type": "markdown",
   "execution_count": null,
   "metadata": {},
   "source": [
    "The purpose of this code is to indicate 10 films based only on the analysis of the plot made available in the dataset \"wikipedia-movie-plots\""
   ]
  },
  {
   "cell_type": "markdown",
   "execution_count": null,
   "metadata": {},
   "source": [
    "Steps for implementation:\n",
    "1. Import the dataset;\n",
    "\n",
    "2. Check for plot information on all movies;\n",
    "\n",
    "3. Apply nlp () to the Plot column - Create tokens from each word;\n",
    "\n",
    "5. Apply pre-processing for each token;\n",
    "\n",
    "6. Calculates the importance of each word according to the whole document with TFIDF;\n",
    "\n",
    "7. Calculate the cosine_similarity between each plot;\n",
    "\n",
    "8. Create function to list the films with cosine_similarity closest to the calculated value for the chosen film.\n"
   ]
  },
  {
   "cell_type": "markdown",
   "execution_count": null,
   "metadata": {},
   "source": [
    "Por questão de processamento foi necessário diminuir pela metade o tamanho do dataset escolhido"
   ]
  },
  {
   "cell_type": "markdown",
   "execution_count": null,
   "metadata": {},
   "source": [
    "**Import libraries**"
   ]
  },
  {
   "cell_type": "code",
   "execution_count": 1,
   "metadata": {},
   "outputs": [],
   "source": [
    "import numpy as np\n",
    "import pandas as pd\n",
    "import spacy\n",
    "from sklearn.feature_extraction.text import TfidfVectorizer\n",
    "from spacy.lang.en.stop_words import STOP_WORDS\n",
    "from sklearn.metrics.pairwise import cosine_similarity "
   ]
  },
  {
   "cell_type": "markdown",
   "execution_count": null,
   "metadata": {},
   "source": [
    "**Import the dataset**"
   ]
  },
  {
   "cell_type": "code",
   "execution_count": 2,
   "metadata": {
    "_cell_guid": "79c7e3d0-c299-4dcb-8224-4455121ee9b0",
    "_uuid": "d629ff2d2480ee46fbb7e2d37f6b5fab8052498a"
   },
   "outputs": [],
   "source": [
    "md = pd.read_csv('../input/wikipedia-movie-plots/wiki_movie_plots_deduped.csv')"
   ]
  },
  {
   "cell_type": "markdown",
   "execution_count": null,
   "metadata": {},
   "source": [
    "**Check what is displayed in that database**"
   ]
  },
  {
   "cell_type": "code",
   "execution_count": 3,
   "metadata": {},
   "outputs": [
    {
     "data": {
      "text/html": [
       "<div>\n",
       "<style scoped>\n",
       "    .dataframe tbody tr th:only-of-type {\n",
       "        vertical-align: middle;\n",
       "    }\n",
       "\n",
       "    .dataframe tbody tr th {\n",
       "        vertical-align: top;\n",
       "    }\n",
       "\n",
       "    .dataframe thead th {\n",
       "        text-align: right;\n",
       "    }\n",
       "</style>\n",
       "<table border=\"1\" class=\"dataframe\">\n",
       "  <thead>\n",
       "    <tr style=\"text-align: right;\">\n",
       "      <th></th>\n",
       "      <th>Release Year</th>\n",
       "      <th>Title</th>\n",
       "      <th>Origin/Ethnicity</th>\n",
       "      <th>Director</th>\n",
       "      <th>Cast</th>\n",
       "      <th>Genre</th>\n",
       "      <th>Wiki Page</th>\n",
       "      <th>Plot</th>\n",
       "    </tr>\n",
       "  </thead>\n",
       "  <tbody>\n",
       "    <tr>\n",
       "      <th>0</th>\n",
       "      <td>1901</td>\n",
       "      <td>Kansas Saloon Smashers</td>\n",
       "      <td>American</td>\n",
       "      <td>Unknown</td>\n",
       "      <td>NaN</td>\n",
       "      <td>unknown</td>\n",
       "      <td>https://en.wikipedia.org/wiki/Kansas_Saloon_Sm...</td>\n",
       "      <td>A bartender is working at a saloon, serving dr...</td>\n",
       "    </tr>\n",
       "    <tr>\n",
       "      <th>1</th>\n",
       "      <td>1901</td>\n",
       "      <td>Love by the Light of the Moon</td>\n",
       "      <td>American</td>\n",
       "      <td>Unknown</td>\n",
       "      <td>NaN</td>\n",
       "      <td>unknown</td>\n",
       "      <td>https://en.wikipedia.org/wiki/Love_by_the_Ligh...</td>\n",
       "      <td>The moon, painted with a smiling face hangs ov...</td>\n",
       "    </tr>\n",
       "    <tr>\n",
       "      <th>2</th>\n",
       "      <td>1901</td>\n",
       "      <td>The Martyred Presidents</td>\n",
       "      <td>American</td>\n",
       "      <td>Unknown</td>\n",
       "      <td>NaN</td>\n",
       "      <td>unknown</td>\n",
       "      <td>https://en.wikipedia.org/wiki/The_Martyred_Pre...</td>\n",
       "      <td>The film, just over a minute long, is composed...</td>\n",
       "    </tr>\n",
       "    <tr>\n",
       "      <th>3</th>\n",
       "      <td>1901</td>\n",
       "      <td>Terrible Teddy, the Grizzly King</td>\n",
       "      <td>American</td>\n",
       "      <td>Unknown</td>\n",
       "      <td>NaN</td>\n",
       "      <td>unknown</td>\n",
       "      <td>https://en.wikipedia.org/wiki/Terrible_Teddy,_...</td>\n",
       "      <td>Lasting just 61 seconds and consisting of two ...</td>\n",
       "    </tr>\n",
       "    <tr>\n",
       "      <th>4</th>\n",
       "      <td>1902</td>\n",
       "      <td>Jack and the Beanstalk</td>\n",
       "      <td>American</td>\n",
       "      <td>George S. Fleming, Edwin S. Porter</td>\n",
       "      <td>NaN</td>\n",
       "      <td>unknown</td>\n",
       "      <td>https://en.wikipedia.org/wiki/Jack_and_the_Bea...</td>\n",
       "      <td>The earliest known adaptation of the classic f...</td>\n",
       "    </tr>\n",
       "  </tbody>\n",
       "</table>\n",
       "</div>"
      ],
      "text/plain": [
       "   Release Year                             Title Origin/Ethnicity  \\\n",
       "0          1901            Kansas Saloon Smashers         American   \n",
       "1          1901     Love by the Light of the Moon         American   \n",
       "2          1901           The Martyred Presidents         American   \n",
       "3          1901  Terrible Teddy, the Grizzly King         American   \n",
       "4          1902            Jack and the Beanstalk         American   \n",
       "\n",
       "                             Director Cast    Genre  \\\n",
       "0                             Unknown  NaN  unknown   \n",
       "1                             Unknown  NaN  unknown   \n",
       "2                             Unknown  NaN  unknown   \n",
       "3                             Unknown  NaN  unknown   \n",
       "4  George S. Fleming, Edwin S. Porter  NaN  unknown   \n",
       "\n",
       "                                           Wiki Page  \\\n",
       "0  https://en.wikipedia.org/wiki/Kansas_Saloon_Sm...   \n",
       "1  https://en.wikipedia.org/wiki/Love_by_the_Ligh...   \n",
       "2  https://en.wikipedia.org/wiki/The_Martyred_Pre...   \n",
       "3  https://en.wikipedia.org/wiki/Terrible_Teddy,_...   \n",
       "4  https://en.wikipedia.org/wiki/Jack_and_the_Bea...   \n",
       "\n",
       "                                                Plot  \n",
       "0  A bartender is working at a saloon, serving dr...  \n",
       "1  The moon, painted with a smiling face hangs ov...  \n",
       "2  The film, just over a minute long, is composed...  \n",
       "3  Lasting just 61 seconds and consisting of two ...  \n",
       "4  The earliest known adaptation of the classic f...  "
      ]
     },
     "execution_count": 3,
     "metadata": {},
     "output_type": "execute_result"
    }
   ],
   "source": [
    "md.head()"
   ]
  },
  {
   "cell_type": "code",
   "execution_count": 4,
   "metadata": {},
   "outputs": [
    {
     "data": {
      "text/html": [
       "<div>\n",
       "<style scoped>\n",
       "    .dataframe tbody tr th:only-of-type {\n",
       "        vertical-align: middle;\n",
       "    }\n",
       "\n",
       "    .dataframe tbody tr th {\n",
       "        vertical-align: top;\n",
       "    }\n",
       "\n",
       "    .dataframe thead th {\n",
       "        text-align: right;\n",
       "    }\n",
       "</style>\n",
       "<table border=\"1\" class=\"dataframe\">\n",
       "  <thead>\n",
       "    <tr style=\"text-align: right;\">\n",
       "      <th></th>\n",
       "      <th>Release Year</th>\n",
       "    </tr>\n",
       "  </thead>\n",
       "  <tbody>\n",
       "    <tr>\n",
       "      <th>count</th>\n",
       "      <td>34886.000000</td>\n",
       "    </tr>\n",
       "    <tr>\n",
       "      <th>mean</th>\n",
       "      <td>1981.314252</td>\n",
       "    </tr>\n",
       "    <tr>\n",
       "      <th>std</th>\n",
       "      <td>27.815174</td>\n",
       "    </tr>\n",
       "    <tr>\n",
       "      <th>min</th>\n",
       "      <td>1901.000000</td>\n",
       "    </tr>\n",
       "    <tr>\n",
       "      <th>25%</th>\n",
       "      <td>1957.000000</td>\n",
       "    </tr>\n",
       "    <tr>\n",
       "      <th>50%</th>\n",
       "      <td>1988.000000</td>\n",
       "    </tr>\n",
       "    <tr>\n",
       "      <th>75%</th>\n",
       "      <td>2007.000000</td>\n",
       "    </tr>\n",
       "    <tr>\n",
       "      <th>max</th>\n",
       "      <td>2017.000000</td>\n",
       "    </tr>\n",
       "  </tbody>\n",
       "</table>\n",
       "</div>"
      ],
      "text/plain": [
       "       Release Year\n",
       "count  34886.000000\n",
       "mean    1981.314252\n",
       "std       27.815174\n",
       "min     1901.000000\n",
       "25%     1957.000000\n",
       "50%     1988.000000\n",
       "75%     2007.000000\n",
       "max     2017.000000"
      ]
     },
     "execution_count": 4,
     "metadata": {},
     "output_type": "execute_result"
    }
   ],
   "source": [
    "md.describe()"
   ]
  },
  {
   "cell_type": "markdown",
   "execution_count": null,
   "metadata": {},
   "source": [
    "Select the 'Plot' column"
   ]
  },
  {
   "cell_type": "code",
   "execution_count": 5,
   "metadata": {},
   "outputs": [],
   "source": [
    "md_plot = md['Plot']"
   ]
  },
  {
   "cell_type": "code",
   "execution_count": 6,
   "metadata": {},
   "outputs": [
    {
     "data": {
      "text/plain": [
       "0    A bartender is working at a saloon, serving dr...\n",
       "1    The moon, painted with a smiling face hangs ov...\n",
       "2    The film, just over a minute long, is composed...\n",
       "3    Lasting just 61 seconds and consisting of two ...\n",
       "4    The earliest known adaptation of the classic f...\n",
       "Name: Plot, dtype: object"
      ]
     },
     "execution_count": 6,
     "metadata": {},
     "output_type": "execute_result"
    }
   ],
   "source": [
    "md_plot.head()"
   ]
  },
  {
   "cell_type": "markdown",
   "execution_count": null,
   "metadata": {},
   "source": [
    "Verify if there is any missing value in 'Plot' column"
   ]
  },
  {
   "cell_type": "code",
   "execution_count": 7,
   "metadata": {},
   "outputs": [
    {
     "data": {
      "text/plain": [
       "0"
      ]
     },
     "execution_count": 7,
     "metadata": {},
     "output_type": "execute_result"
    }
   ],
   "source": [
    "md_nan = md_plot.isna()\n",
    "md_nan.sum()"
   ]
  },
  {
   "cell_type": "markdown",
   "execution_count": null,
   "metadata": {},
   "source": [
    "**Pre-processing of the text**"
   ]
  },
  {
   "cell_type": "markdown",
   "execution_count": null,
   "metadata": {},
   "source": [
    "Pre-processing using SPACY library"
   ]
  },
  {
   "cell_type": "code",
   "execution_count": 8,
   "metadata": {},
   "outputs": [],
   "source": [
    "nlp = spacy.load('en_core_web_sm') "
   ]
  },
  {
   "cell_type": "code",
   "execution_count": 9,
   "metadata": {},
   "outputs": [
    {
     "name": "stdout",
     "output_type": "stream",
     "text": [
      "A bartender is working at a saloon, serving drinks to customers. After he fills a stereotypically Irish man's bucket with beer, Carrie Nation and her followers burst inside. They assault the Irish man, pulling his hat over his eyes and then dumping the beer over his head. The group then begin wrecking the bar, smashing the fixtures, mirrors, and breaking the cash register. The bartender then sprays seltzer water in Nation's face before a group of policemen appear and order everybody to leave.[1]\n"
     ]
    }
   ],
   "source": [
    "doc = nlp(md_plot[0]) \n",
    "print(doc) "
   ]
  },
  {
   "cell_type": "code",
   "execution_count": 10,
   "metadata": {},
   "outputs": [
    {
     "name": "stdout",
     "output_type": "stream",
     "text": [
      "['a', 'bartender', 'be', 'work', 'at', 'a', 'saloon', ',', 'serve', 'drink', 'to', 'customer', '.', 'after', '-PRON-', 'fill', 'a', 'stereotypically', 'irish', 'man', \"'s\", 'bucket', 'with', 'beer', ',', 'Carrie', 'Nation', 'and', '-PRON-', 'follower', 'burst', 'inside', '.', '-PRON-', 'assault', 'the', 'irish', 'man', ',', 'pull', '-PRON-', 'hat', 'over', '-PRON-', 'eye', 'and', 'then', 'dump', 'the', 'beer', 'over', '-PRON-', 'head', '.', 'the', 'group', 'then', 'begin', 'wreck', 'the', 'bar', ',', 'smash', 'the', 'fixture', ',', 'mirror', ',', 'and', 'break', 'the', 'cash', 'register', '.', 'the', 'bartender', 'then', 'spray', 'seltzer', 'water', 'in', 'Nation', \"'s\", 'face', 'before', 'a', 'group', 'of', 'policeman', 'appear', 'and', 'order', 'everybody', 'to', 'leave.[1', ']']\n"
     ]
    }
   ],
   "source": [
    "lemmas = [token.lemma_ for token in doc] \n",
    "print(lemmas)"
   ]
  },
  {
   "cell_type": "code",
   "execution_count": 11,
   "metadata": {},
   "outputs": [
    {
     "name": "stdout",
     "output_type": "stream",
     "text": [
      "['a', 'bartender', 'be', 'work', 'at', 'a', 'saloon', ',', 'serve', 'drink', 'to', 'customer', '.', 'after', '-PRON-', 'fill', 'a', 'stereotypically', 'irish', 'man', 'bucket', 'with', 'beer', ',', 'Carrie', 'Nation', 'and', '-PRON-', 'follower', 'burst', 'inside', '.', '-PRON-', 'assault', 'the', 'irish', 'man', ',', 'pull', '-PRON-', 'hat', 'over', '-PRON-', 'eye', 'and', 'then', 'dump', 'the', 'beer', 'over', '-PRON-', 'head', '.', 'the', 'group', 'then', 'begin', 'wreck', 'the', 'bar', ',', 'smash', 'the', 'fixture', ',', 'mirror', ',', 'and', 'break', 'the', 'cash', 'register', '.', 'the', 'bartender', 'then', 'spray', 'seltzer', 'water', 'in', 'Nation', 'face', 'before', 'a', 'group', 'of', 'policeman', 'appear', 'and', 'order', 'everybody', 'to', 'leave.[1', ']']\n"
     ]
    }
   ],
   "source": [
    "a_lemmas = [lemma for lemma in lemmas \n",
    "            if lemma.isalpha() or lemma not in STOP_WORDS] \n",
    "\n",
    "print(a_lemmas)"
   ]
  },
  {
   "cell_type": "code",
   "execution_count": 12,
   "metadata": {},
   "outputs": [
    {
     "name": "stdout",
     "output_type": "stream",
     "text": [
      "a bartender be work at a saloon , serve drink to customer . after -PRON- fill a stereotypically irish man bucket with beer , Carrie Nation and -PRON- follower burst inside . -PRON- assault the irish man , pull -PRON- hat over -PRON- eye and then dump the beer over -PRON- head . the group then begin wreck the bar , smash the fixture , mirror , and break the cash register . the bartender then spray seltzer water in Nation face before a group of policeman appear and order everybody to leave.[1 ]\n"
     ]
    }
   ],
   "source": [
    "print(' '.join(a_lemmas))"
   ]
  },
  {
   "cell_type": "markdown",
   "execution_count": null,
   "metadata": {},
   "source": [
    "Create a function for this pre-processing and apply to all other Plots in the database"
   ]
  },
  {
   "cell_type": "code",
   "execution_count": 13,
   "metadata": {},
   "outputs": [],
   "source": [
    "def preprocess(text):\n",
    "    doc = nlp(text)\n",
    "    lemmas = [token.lemma_ for token in doc]\n",
    "    a_lemmas = [lemma for lemma in lemmas \n",
    "            if lemma.isalpha() and lemma not in STOP_WORDS]\n",
    "    \n",
    "    return ' '.join(a_lemmas)"
   ]
  },
  {
   "cell_type": "code",
   "execution_count": 14,
   "metadata": {},
   "outputs": [
    {
     "name": "stdout",
     "output_type": "stream",
     "text": [
      "A bartender is working at a saloon, serving drinks to customers. After he fills a stereotypically Irish man's bucket with beer, Carrie Nation and her followers burst inside. They assault the Irish man, pulling his hat over his eyes and then dumping the beer over his head. The group then begin wrecking the bar, smashing the fixtures, mirrors, and breaking the cash register. The bartender then sprays seltzer water in Nation's face before a group of policemen appear and order everybody to leave.[1]\n"
     ]
    }
   ],
   "source": [
    "preprocess(md_plot[0]) # verificar o resultado da função\n",
    "print(md_plot[0])"
   ]
  },
  {
   "cell_type": "markdown",
   "execution_count": null,
   "metadata": {},
   "source": [
    "Test the function for simple cases"
   ]
  },
  {
   "cell_type": "code",
   "execution_count": 15,
   "metadata": {},
   "outputs": [
    {
     "data": {
      "text/html": [
       "<div>\n",
       "<style scoped>\n",
       "    .dataframe tbody tr th:only-of-type {\n",
       "        vertical-align: middle;\n",
       "    }\n",
       "\n",
       "    .dataframe tbody tr th {\n",
       "        vertical-align: top;\n",
       "    }\n",
       "\n",
       "    .dataframe thead th {\n",
       "        text-align: right;\n",
       "    }\n",
       "</style>\n",
       "<table border=\"1\" class=\"dataframe\">\n",
       "  <thead>\n",
       "    <tr style=\"text-align: right;\">\n",
       "      <th></th>\n",
       "      <th>Plot</th>\n",
       "      <th>test</th>\n",
       "    </tr>\n",
       "  </thead>\n",
       "  <tbody>\n",
       "    <tr>\n",
       "      <th>0</th>\n",
       "      <td>A bartender is working at a saloon, serving dr...</td>\n",
       "      <td>bartender work saloon serve drink customer fil...</td>\n",
       "    </tr>\n",
       "    <tr>\n",
       "      <th>1</th>\n",
       "      <td>The moon, painted with a smiling face hangs ov...</td>\n",
       "      <td>moon paint smile face hang park night young co...</td>\n",
       "    </tr>\n",
       "    <tr>\n",
       "      <th>2</th>\n",
       "      <td>The film, just over a minute long, is composed...</td>\n",
       "      <td>film minute long compose shot girl sit base al...</td>\n",
       "    </tr>\n",
       "  </tbody>\n",
       "</table>\n",
       "</div>"
      ],
      "text/plain": [
       "                                                Plot  \\\n",
       "0  A bartender is working at a saloon, serving dr...   \n",
       "1  The moon, painted with a smiling face hangs ov...   \n",
       "2  The film, just over a minute long, is composed...   \n",
       "\n",
       "                                                test  \n",
       "0  bartender work saloon serve drink customer fil...  \n",
       "1  moon paint smile face hang park night young co...  \n",
       "2  film minute long compose shot girl sit base al...  "
      ]
     },
     "execution_count": 15,
     "metadata": {},
     "output_type": "execute_result"
    }
   ],
   "source": [
    "md_plot_test = [[md_plot[0]], [md_plot[1]], [md_plot[2]]] #selecionar apenas algumas linhas\n",
    "md_plot_test = pd.DataFrame(md_plot_test, columns = ['Plot']) \n",
    "    \n",
    "md_plot_test['test'] = md_plot_test['Plot'].apply(lambda x: preprocess(x))\n",
    "\n",
    "md_plot_test #cria uma nova coluna"
   ]
  },
  {
   "cell_type": "markdown",
   "execution_count": null,
   "metadata": {},
   "source": [
    "Apply function to the dataset\n",
    "**here it was necessary to decrease the size of the dataset"
   ]
  },
  {
   "cell_type": "code",
   "execution_count": 16,
   "metadata": {},
   "outputs": [],
   "source": [
    "md_half = md[:len(md)//2] "
   ]
  },
  {
   "cell_type": "code",
   "execution_count": 17,
   "metadata": {},
   "outputs": [
    {
     "name": "stderr",
     "output_type": "stream",
     "text": [
      "/opt/conda/lib/python3.7/site-packages/ipykernel_launcher.py:1: SettingWithCopyWarning: \n",
      "A value is trying to be set on a copy of a slice from a DataFrame.\n",
      "Try using .loc[row_indexer,col_indexer] = value instead\n",
      "\n",
      "See the caveats in the documentation: https://pandas.pydata.org/pandas-docs/stable/user_guide/indexing.html#returning-a-view-versus-a-copy\n",
      "  \"\"\"Entry point for launching an IPython kernel.\n"
     ]
    }
   ],
   "source": [
    "md_half['Plot_lemma'] = md_half['Plot'].apply(lambda x: preprocess(x)) "
   ]
  },
  {
   "cell_type": "code",
   "execution_count": 18,
   "metadata": {
    "collapsed": true
   },
   "outputs": [
    {
     "data": {
      "text/html": [
       "<div>\n",
       "<style scoped>\n",
       "    .dataframe tbody tr th:only-of-type {\n",
       "        vertical-align: middle;\n",
       "    }\n",
       "\n",
       "    .dataframe tbody tr th {\n",
       "        vertical-align: top;\n",
       "    }\n",
       "\n",
       "    .dataframe thead th {\n",
       "        text-align: right;\n",
       "    }\n",
       "</style>\n",
       "<table border=\"1\" class=\"dataframe\">\n",
       "  <thead>\n",
       "    <tr style=\"text-align: right;\">\n",
       "      <th></th>\n",
       "      <th>Release Year</th>\n",
       "      <th>Title</th>\n",
       "      <th>Origin/Ethnicity</th>\n",
       "      <th>Director</th>\n",
       "      <th>Cast</th>\n",
       "      <th>Genre</th>\n",
       "      <th>Wiki Page</th>\n",
       "      <th>Plot</th>\n",
       "      <th>Plot_lemma</th>\n",
       "    </tr>\n",
       "  </thead>\n",
       "  <tbody>\n",
       "    <tr>\n",
       "      <th>0</th>\n",
       "      <td>1901</td>\n",
       "      <td>Kansas Saloon Smashers</td>\n",
       "      <td>American</td>\n",
       "      <td>Unknown</td>\n",
       "      <td>NaN</td>\n",
       "      <td>unknown</td>\n",
       "      <td>https://en.wikipedia.org/wiki/Kansas_Saloon_Sm...</td>\n",
       "      <td>A bartender is working at a saloon, serving dr...</td>\n",
       "      <td>bartender work saloon serve drink customer fil...</td>\n",
       "    </tr>\n",
       "    <tr>\n",
       "      <th>1</th>\n",
       "      <td>1901</td>\n",
       "      <td>Love by the Light of the Moon</td>\n",
       "      <td>American</td>\n",
       "      <td>Unknown</td>\n",
       "      <td>NaN</td>\n",
       "      <td>unknown</td>\n",
       "      <td>https://en.wikipedia.org/wiki/Love_by_the_Ligh...</td>\n",
       "      <td>The moon, painted with a smiling face hangs ov...</td>\n",
       "      <td>moon paint smile face hang park night young co...</td>\n",
       "    </tr>\n",
       "    <tr>\n",
       "      <th>2</th>\n",
       "      <td>1901</td>\n",
       "      <td>The Martyred Presidents</td>\n",
       "      <td>American</td>\n",
       "      <td>Unknown</td>\n",
       "      <td>NaN</td>\n",
       "      <td>unknown</td>\n",
       "      <td>https://en.wikipedia.org/wiki/The_Martyred_Pre...</td>\n",
       "      <td>The film, just over a minute long, is composed...</td>\n",
       "      <td>film minute long compose shot girl sit base al...</td>\n",
       "    </tr>\n",
       "    <tr>\n",
       "      <th>3</th>\n",
       "      <td>1901</td>\n",
       "      <td>Terrible Teddy, the Grizzly King</td>\n",
       "      <td>American</td>\n",
       "      <td>Unknown</td>\n",
       "      <td>NaN</td>\n",
       "      <td>unknown</td>\n",
       "      <td>https://en.wikipedia.org/wiki/Terrible_Teddy,_...</td>\n",
       "      <td>Lasting just 61 seconds and consisting of two ...</td>\n",
       "      <td>second consist shot shot set wood winter actor...</td>\n",
       "    </tr>\n",
       "    <tr>\n",
       "      <th>4</th>\n",
       "      <td>1902</td>\n",
       "      <td>Jack and the Beanstalk</td>\n",
       "      <td>American</td>\n",
       "      <td>George S. Fleming, Edwin S. Porter</td>\n",
       "      <td>NaN</td>\n",
       "      <td>unknown</td>\n",
       "      <td>https://en.wikipedia.org/wiki/Jack_and_the_Bea...</td>\n",
       "      <td>The earliest known adaptation of the classic f...</td>\n",
       "      <td>earliest know adaptation classic fairytale fil...</td>\n",
       "    </tr>\n",
       "    <tr>\n",
       "      <th>...</th>\n",
       "      <td>...</td>\n",
       "      <td>...</td>\n",
       "      <td>...</td>\n",
       "      <td>...</td>\n",
       "      <td>...</td>\n",
       "      <td>...</td>\n",
       "      <td>...</td>\n",
       "      <td>...</td>\n",
       "      <td>...</td>\n",
       "    </tr>\n",
       "    <tr>\n",
       "      <th>17438</th>\n",
       "      <td>1976</td>\n",
       "      <td>End Play</td>\n",
       "      <td>Australian</td>\n",
       "      <td>Unknown</td>\n",
       "      <td>George Mallaby, John Waters</td>\n",
       "      <td>unknown</td>\n",
       "      <td>https://en.wikipedia.org/wiki/End_Play</td>\n",
       "      <td>Hitchhiker Janine Talbort is picked up and mur...</td>\n",
       "      <td>Hitchhiker Janine Talbort pick murder unseen a...</td>\n",
       "    </tr>\n",
       "    <tr>\n",
       "      <th>17439</th>\n",
       "      <td>1976</td>\n",
       "      <td>Fantasm</td>\n",
       "      <td>Australian</td>\n",
       "      <td>Unknown</td>\n",
       "      <td>NaN</td>\n",
       "      <td>unknown</td>\n",
       "      <td>https://en.wikipedia.org/wiki/Fantasm</td>\n",
       "      <td>German psychiatrist Professor Jurgen Notafreud...</td>\n",
       "      <td>german psychiatrist Professor Jurgen Notafreud...</td>\n",
       "    </tr>\n",
       "    <tr>\n",
       "      <th>17440</th>\n",
       "      <td>1976</td>\n",
       "      <td>The Fourth Wish</td>\n",
       "      <td>Australian</td>\n",
       "      <td>Unknown</td>\n",
       "      <td>NaN</td>\n",
       "      <td>unknown</td>\n",
       "      <td>https://en.wikipedia.org/wiki/The_Fourth_Wish</td>\n",
       "      <td>Casey learns that his 12-year-old son Sean has...</td>\n",
       "      <td>Casey learn old son Sean leukaemia die month C...</td>\n",
       "    </tr>\n",
       "    <tr>\n",
       "      <th>17441</th>\n",
       "      <td>1976</td>\n",
       "      <td>Illuminations</td>\n",
       "      <td>Australian</td>\n",
       "      <td>Unknown</td>\n",
       "      <td>NaN</td>\n",
       "      <td>unknown</td>\n",
       "      <td>https://en.wikipedia.org/wiki/Illuminations_(f...</td>\n",
       "      <td>A couple living together have a tense relation...</td>\n",
       "      <td>couple live tense relationship woman father di...</td>\n",
       "    </tr>\n",
       "    <tr>\n",
       "      <th>17442</th>\n",
       "      <td>1976</td>\n",
       "      <td>Let the Balloon Go</td>\n",
       "      <td>Australian</td>\n",
       "      <td>Unknown</td>\n",
       "      <td>NaN</td>\n",
       "      <td>unknown</td>\n",
       "      <td>https://en.wikipedia.org/wiki/Let_the_Balloon_Go</td>\n",
       "      <td>In 1917 rural New South Wales, a young boy wit...</td>\n",
       "      <td>rural New South Wales young boy polio struggle...</td>\n",
       "    </tr>\n",
       "  </tbody>\n",
       "</table>\n",
       "<p>17443 rows × 9 columns</p>\n",
       "</div>"
      ],
      "text/plain": [
       "       Release Year                             Title Origin/Ethnicity  \\\n",
       "0              1901            Kansas Saloon Smashers         American   \n",
       "1              1901     Love by the Light of the Moon         American   \n",
       "2              1901           The Martyred Presidents         American   \n",
       "3              1901  Terrible Teddy, the Grizzly King         American   \n",
       "4              1902            Jack and the Beanstalk         American   \n",
       "...             ...                               ...              ...   \n",
       "17438          1976                          End Play       Australian   \n",
       "17439          1976                           Fantasm       Australian   \n",
       "17440          1976                   The Fourth Wish       Australian   \n",
       "17441          1976                     Illuminations       Australian   \n",
       "17442          1976                Let the Balloon Go       Australian   \n",
       "\n",
       "                                 Director                         Cast  \\\n",
       "0                                 Unknown                          NaN   \n",
       "1                                 Unknown                          NaN   \n",
       "2                                 Unknown                          NaN   \n",
       "3                                 Unknown                          NaN   \n",
       "4      George S. Fleming, Edwin S. Porter                          NaN   \n",
       "...                                   ...                          ...   \n",
       "17438                             Unknown  George Mallaby, John Waters   \n",
       "17439                             Unknown                          NaN   \n",
       "17440                             Unknown                          NaN   \n",
       "17441                             Unknown                          NaN   \n",
       "17442                             Unknown                          NaN   \n",
       "\n",
       "         Genre                                          Wiki Page  \\\n",
       "0      unknown  https://en.wikipedia.org/wiki/Kansas_Saloon_Sm...   \n",
       "1      unknown  https://en.wikipedia.org/wiki/Love_by_the_Ligh...   \n",
       "2      unknown  https://en.wikipedia.org/wiki/The_Martyred_Pre...   \n",
       "3      unknown  https://en.wikipedia.org/wiki/Terrible_Teddy,_...   \n",
       "4      unknown  https://en.wikipedia.org/wiki/Jack_and_the_Bea...   \n",
       "...        ...                                                ...   \n",
       "17438  unknown             https://en.wikipedia.org/wiki/End_Play   \n",
       "17439  unknown              https://en.wikipedia.org/wiki/Fantasm   \n",
       "17440  unknown      https://en.wikipedia.org/wiki/The_Fourth_Wish   \n",
       "17441  unknown  https://en.wikipedia.org/wiki/Illuminations_(f...   \n",
       "17442  unknown   https://en.wikipedia.org/wiki/Let_the_Balloon_Go   \n",
       "\n",
       "                                                    Plot  \\\n",
       "0      A bartender is working at a saloon, serving dr...   \n",
       "1      The moon, painted with a smiling face hangs ov...   \n",
       "2      The film, just over a minute long, is composed...   \n",
       "3      Lasting just 61 seconds and consisting of two ...   \n",
       "4      The earliest known adaptation of the classic f...   \n",
       "...                                                  ...   \n",
       "17438  Hitchhiker Janine Talbort is picked up and mur...   \n",
       "17439  German psychiatrist Professor Jurgen Notafreud...   \n",
       "17440  Casey learns that his 12-year-old son Sean has...   \n",
       "17441  A couple living together have a tense relation...   \n",
       "17442  In 1917 rural New South Wales, a young boy wit...   \n",
       "\n",
       "                                              Plot_lemma  \n",
       "0      bartender work saloon serve drink customer fil...  \n",
       "1      moon paint smile face hang park night young co...  \n",
       "2      film minute long compose shot girl sit base al...  \n",
       "3      second consist shot shot set wood winter actor...  \n",
       "4      earliest know adaptation classic fairytale fil...  \n",
       "...                                                  ...  \n",
       "17438  Hitchhiker Janine Talbort pick murder unseen a...  \n",
       "17439  german psychiatrist Professor Jurgen Notafreud...  \n",
       "17440  Casey learn old son Sean leukaemia die month C...  \n",
       "17441  couple live tense relationship woman father di...  \n",
       "17442  rural New South Wales young boy polio struggle...  \n",
       "\n",
       "[17443 rows x 9 columns]"
      ]
     },
     "execution_count": 18,
     "metadata": {},
     "output_type": "execute_result"
    }
   ],
   "source": [
    "md_half #verificar a nova coluna"
   ]
  },
  {
   "cell_type": "code",
   "execution_count": 19,
   "metadata": {},
   "outputs": [
    {
     "data": {
      "text/html": [
       "<div>\n",
       "<style scoped>\n",
       "    .dataframe tbody tr th:only-of-type {\n",
       "        vertical-align: middle;\n",
       "    }\n",
       "\n",
       "    .dataframe tbody tr th {\n",
       "        vertical-align: top;\n",
       "    }\n",
       "\n",
       "    .dataframe thead th {\n",
       "        text-align: right;\n",
       "    }\n",
       "</style>\n",
       "<table border=\"1\" class=\"dataframe\">\n",
       "  <thead>\n",
       "    <tr style=\"text-align: right;\">\n",
       "      <th></th>\n",
       "      <th>Release Year</th>\n",
       "      <th>Title</th>\n",
       "      <th>Origin/Ethnicity</th>\n",
       "      <th>Director</th>\n",
       "      <th>Cast</th>\n",
       "      <th>Genre</th>\n",
       "      <th>Wiki Page</th>\n",
       "      <th>Plot</th>\n",
       "      <th>Plot_lemma</th>\n",
       "    </tr>\n",
       "  </thead>\n",
       "  <tbody>\n",
       "    <tr>\n",
       "      <th>0</th>\n",
       "      <td>1901</td>\n",
       "      <td>Kansas Saloon Smashers</td>\n",
       "      <td>American</td>\n",
       "      <td>Unknown</td>\n",
       "      <td>NaN</td>\n",
       "      <td>unknown</td>\n",
       "      <td>https://en.wikipedia.org/wiki/Kansas_Saloon_Sm...</td>\n",
       "      <td>A bartender is working at a saloon, serving dr...</td>\n",
       "      <td>bartender work saloon serve drink customer fil...</td>\n",
       "    </tr>\n",
       "    <tr>\n",
       "      <th>1</th>\n",
       "      <td>1901</td>\n",
       "      <td>Love by the Light of the Moon</td>\n",
       "      <td>American</td>\n",
       "      <td>Unknown</td>\n",
       "      <td>NaN</td>\n",
       "      <td>unknown</td>\n",
       "      <td>https://en.wikipedia.org/wiki/Love_by_the_Ligh...</td>\n",
       "      <td>The moon, painted with a smiling face hangs ov...</td>\n",
       "      <td>moon paint smile face hang park night young co...</td>\n",
       "    </tr>\n",
       "    <tr>\n",
       "      <th>2</th>\n",
       "      <td>1901</td>\n",
       "      <td>The Martyred Presidents</td>\n",
       "      <td>American</td>\n",
       "      <td>Unknown</td>\n",
       "      <td>NaN</td>\n",
       "      <td>unknown</td>\n",
       "      <td>https://en.wikipedia.org/wiki/The_Martyred_Pre...</td>\n",
       "      <td>The film, just over a minute long, is composed...</td>\n",
       "      <td>film minute long compose shot girl sit base al...</td>\n",
       "    </tr>\n",
       "    <tr>\n",
       "      <th>3</th>\n",
       "      <td>1901</td>\n",
       "      <td>Terrible Teddy, the Grizzly King</td>\n",
       "      <td>American</td>\n",
       "      <td>Unknown</td>\n",
       "      <td>NaN</td>\n",
       "      <td>unknown</td>\n",
       "      <td>https://en.wikipedia.org/wiki/Terrible_Teddy,_...</td>\n",
       "      <td>Lasting just 61 seconds and consisting of two ...</td>\n",
       "      <td>second consist shot shot set wood winter actor...</td>\n",
       "    </tr>\n",
       "    <tr>\n",
       "      <th>4</th>\n",
       "      <td>1902</td>\n",
       "      <td>Jack and the Beanstalk</td>\n",
       "      <td>American</td>\n",
       "      <td>George S. Fleming, Edwin S. Porter</td>\n",
       "      <td>NaN</td>\n",
       "      <td>unknown</td>\n",
       "      <td>https://en.wikipedia.org/wiki/Jack_and_the_Bea...</td>\n",
       "      <td>The earliest known adaptation of the classic f...</td>\n",
       "      <td>earliest know adaptation classic fairytale fil...</td>\n",
       "    </tr>\n",
       "  </tbody>\n",
       "</table>\n",
       "</div>"
      ],
      "text/plain": [
       "   Release Year                             Title Origin/Ethnicity  \\\n",
       "0          1901            Kansas Saloon Smashers         American   \n",
       "1          1901     Love by the Light of the Moon         American   \n",
       "2          1901           The Martyred Presidents         American   \n",
       "3          1901  Terrible Teddy, the Grizzly King         American   \n",
       "4          1902            Jack and the Beanstalk         American   \n",
       "\n",
       "                             Director Cast    Genre  \\\n",
       "0                             Unknown  NaN  unknown   \n",
       "1                             Unknown  NaN  unknown   \n",
       "2                             Unknown  NaN  unknown   \n",
       "3                             Unknown  NaN  unknown   \n",
       "4  George S. Fleming, Edwin S. Porter  NaN  unknown   \n",
       "\n",
       "                                           Wiki Page  \\\n",
       "0  https://en.wikipedia.org/wiki/Kansas_Saloon_Sm...   \n",
       "1  https://en.wikipedia.org/wiki/Love_by_the_Ligh...   \n",
       "2  https://en.wikipedia.org/wiki/The_Martyred_Pre...   \n",
       "3  https://en.wikipedia.org/wiki/Terrible_Teddy,_...   \n",
       "4  https://en.wikipedia.org/wiki/Jack_and_the_Bea...   \n",
       "\n",
       "                                                Plot  \\\n",
       "0  A bartender is working at a saloon, serving dr...   \n",
       "1  The moon, painted with a smiling face hangs ov...   \n",
       "2  The film, just over a minute long, is composed...   \n",
       "3  Lasting just 61 seconds and consisting of two ...   \n",
       "4  The earliest known adaptation of the classic f...   \n",
       "\n",
       "                                          Plot_lemma  \n",
       "0  bartender work saloon serve drink customer fil...  \n",
       "1  moon paint smile face hang park night young co...  \n",
       "2  film minute long compose shot girl sit base al...  \n",
       "3  second consist shot shot set wood winter actor...  \n",
       "4  earliest know adaptation classic fairytale fil...  "
      ]
     },
     "execution_count": 19,
     "metadata": {},
     "output_type": "execute_result"
    }
   ],
   "source": [
    "md_half.head()"
   ]
  },
  {
   "cell_type": "markdown",
   "execution_count": null,
   "metadata": {},
   "source": [
    "Salvar resultado"
   ]
  },
  {
   "cell_type": "code",
   "execution_count": 20,
   "metadata": {},
   "outputs": [],
   "source": [
    "np.savez_compressed('md_half')\n",
    "md_half.to_csv('csv_to_submit.csv', index = False)"
   ]
  },
  {
   "cell_type": "markdown",
   "execution_count": null,
   "metadata": {},
   "source": [
    "**Apply TFIDF**"
   ]
  },
  {
   "cell_type": "code",
   "execution_count": 21,
   "metadata": {},
   "outputs": [],
   "source": [
    "vectorizer = TfidfVectorizer()"
   ]
  },
  {
   "cell_type": "markdown",
   "execution_count": null,
   "metadata": {},
   "source": [
    "Just some visualization of the dataset"
   ]
  },
  {
   "cell_type": "code",
   "execution_count": 22,
   "metadata": {},
   "outputs": [
    {
     "data": {
      "text/plain": [
       "(17443,)"
      ]
     },
     "execution_count": 22,
     "metadata": {},
     "output_type": "execute_result"
    }
   ],
   "source": [
    "md_half_plot_lemma = md_half['Plot_lemma'] \n",
    "md_half_plot_lemma.head()\n",
    "md_half_plot_lemma.shape"
   ]
  },
  {
   "cell_type": "markdown",
   "execution_count": null,
   "metadata": {},
   "source": [
    "Verify the TFIDF matrix on the test dataset"
   ]
  },
  {
   "cell_type": "code",
   "execution_count": 23,
   "metadata": {
    "collapsed": true
   },
   "outputs": [
    {
     "name": "stdout",
     "output_type": "stream",
     "text": [
      "  (0, 30)\t0.1333442091361333\n",
      "  (0, 66)\t0.1333442091361333\n",
      "  (0, 2)\t0.1333442091361333\n",
      "  (0, 71)\t0.1333442091361333\n",
      "  (0, 32)\t0.07875523797761909\n",
      "  (0, 97)\t0.1333442091361333\n",
      "  (0, 82)\t0.1333442091361333\n",
      "  (0, 90)\t0.1333442091361333\n",
      "  (0, 77)\t0.1333442091361333\n",
      "  (0, 20)\t0.1333442091361333\n",
      "  (0, 15)\t0.1333442091361333\n",
      "  (0, 62)\t0.1333442091361333\n",
      "  (0, 37)\t0.1333442091361333\n",
      "  (0, 88)\t0.1333442091361333\n",
      "  (0, 6)\t0.1333442091361333\n",
      "  (0, 101)\t0.1333442091361333\n",
      "  (0, 10)\t0.1333442091361333\n",
      "  (0, 43)\t0.2666884182722666\n",
      "  (0, 46)\t0.1333442091361333\n",
      "  (0, 28)\t0.1333442091361333\n",
      "  (0, 31)\t0.1333442091361333\n",
      "  (0, 45)\t0.10141170805545374\n",
      "  (0, 75)\t0.1333442091361333\n",
      "  (0, 5)\t0.1333442091361333\n",
      "  (0, 48)\t0.1333442091361333\n",
      "  :\t:\n",
      "  (2, 60)\t0.14989686209292205\n",
      "  (2, 98)\t0.14989686209292205\n",
      "  (2, 41)\t0.14989686209292205\n",
      "  (2, 50)\t0.14989686209292205\n",
      "  (2, 56)\t0.14989686209292205\n",
      "  (2, 0)\t0.14989686209292205\n",
      "  (2, 74)\t0.14989686209292205\n",
      "  (2, 73)\t0.14989686209292205\n",
      "  (2, 26)\t0.14989686209292205\n",
      "  (2, 72)\t0.14989686209292205\n",
      "  (2, 22)\t0.14989686209292205\n",
      "  (2, 18)\t0.14989686209292205\n",
      "  (2, 47)\t0.14989686209292205\n",
      "  (2, 92)\t0.14989686209292205\n",
      "  (2, 1)\t0.2997937241858441\n",
      "  (2, 8)\t0.14989686209292205\n",
      "  (2, 42)\t0.14989686209292205\n",
      "  (2, 84)\t0.2997937241858441\n",
      "  (2, 23)\t0.14989686209292205\n",
      "  (2, 57)\t0.2997937241858441\n",
      "  (2, 61)\t0.14989686209292205\n",
      "  (2, 36)\t0.14989686209292205\n",
      "  (2, 95)\t0.11400042728122349\n",
      "  (2, 86)\t0.11400042728122349\n",
      "  (2, 32)\t0.08853150146306196\n"
     ]
    }
   ],
   "source": [
    "tfidf_matrix_teste = vectorizer.fit_transform(md_plot_test['test'])\n",
    "print(tfidf_matrix_teste) "
   ]
  },
  {
   "cell_type": "markdown",
   "execution_count": null,
   "metadata": {},
   "source": [
    "Apply TFIDF "
   ]
  },
  {
   "cell_type": "code",
   "execution_count": 24,
   "metadata": {},
   "outputs": [],
   "source": [
    "tfidf_matrix_half = vectorizer.fit_transform(md_half['Plot_lemma']) #criar matriz de TFIDF"
   ]
  },
  {
   "cell_type": "code",
   "execution_count": 25,
   "metadata": {},
   "outputs": [
    {
     "data": {
      "text/plain": [
       "(17443,)"
      ]
     },
     "execution_count": 25,
     "metadata": {},
     "output_type": "execute_result"
    }
   ],
   "source": [
    "md_half_plot_lemma.shape"
   ]
  },
  {
   "cell_type": "code",
   "execution_count": 26,
   "metadata": {
    "collapsed": true
   },
   "outputs": [
    {
     "name": "stdout",
     "output_type": "stream",
     "text": [
      "  (0, 21867)\t0.14631007738501167\n",
      "  (0, 48658)\t0.06627689408092892\n",
      "  (0, 2631)\t0.07766582627173153\n",
      "  (0, 52148)\t0.12445248875955761\n",
      "  (0, 22335)\t0.08159781528464904\n",
      "  (0, 72899)\t0.09722082119046897\n",
      "  (0, 59918)\t0.22562849671011898\n",
      "  (0, 63342)\t0.15705060793633624\n",
      "  (0, 55546)\t0.16029227812703717\n",
      "  (0, 10598)\t0.1198935709165304\n",
      "  (0, 8240)\t0.06500397858088504\n",
      "  (0, 44250)\t0.1354111152013188\n",
      "  (0, 23665)\t0.2148200504316633\n",
      "  (0, 62083)\t0.13291154595650542\n",
      "  (0, 4703)\t0.09803099082800035\n",
      "  (0, 74528)\t0.1384718967309977\n",
      "  (0, 5585)\t0.058382827880235355\n",
      "  (0, 27946)\t0.15690816649247308\n",
      "  (0, 29533)\t0.0681083113735678\n",
      "  (0, 19640)\t0.12356875340321877\n",
      "  (0, 22258)\t0.0999194023703423\n",
      "  (0, 29327)\t0.13961081167075853\n",
      "  (0, 53654)\t0.08804282183838569\n",
      "  (0, 3437)\t0.1149746058439725\n",
      "  (0, 33009)\t0.08693507613923547\n",
      "  :\t:\n",
      "  (17441, 21232)\t0.4163045293748532\n",
      "  (17441, 66791)\t0.37027766453022537\n",
      "  (17441, 5154)\t0.3724073041760828\n",
      "  (17441, 55719)\t0.18762762187904594\n",
      "  (17441, 19387)\t0.2785697818464236\n",
      "  (17441, 16338)\t0.15135394436488708\n",
      "  (17441, 17707)\t0.15246664887577324\n",
      "  (17441, 39268)\t0.15246664887577324\n",
      "  (17441, 22781)\t0.140102516418941\n",
      "  (17441, 38855)\t0.13200775880095697\n",
      "  (17441, 55249)\t0.22354610900241154\n",
      "  (17441, 74248)\t0.14862071881295869\n",
      "  (17441, 14569)\t0.20572000335443197\n",
      "  (17442, 52159)\t0.4702781205694344\n",
      "  (17442, 72612)\t0.45390409614964866\n",
      "  (17442, 57935)\t0.3328241186742107\n",
      "  (17442, 49231)\t0.4361756160750325\n",
      "  (17442, 62823)\t0.2648345623242459\n",
      "  (17442, 64634)\t0.21659409141769684\n",
      "  (17442, 7935)\t0.18702156475864254\n",
      "  (17442, 46879)\t0.12059372898833585\n",
      "  (17442, 24736)\t0.1925312682147758\n",
      "  (17442, 45332)\t0.1605569516773861\n",
      "  (17442, 75119)\t0.14067202674529034\n",
      "  (17442, 8240)\t0.15027573558956162\n"
     ]
    }
   ],
   "source": [
    "print(tfidf_matrix_half) "
   ]
  },
  {
   "cell_type": "markdown",
   "execution_count": null,
   "metadata": {},
   "source": [
    "**Apply o cosine simularity**"
   ]
  },
  {
   "cell_type": "markdown",
   "execution_count": null,
   "metadata": {},
   "source": [
    "Visualization of some tests"
   ]
  },
  {
   "cell_type": "code",
   "execution_count": 27,
   "metadata": {},
   "outputs": [],
   "source": [
    "cosine_sim_test = cosine_similarity(tfidf_matrix_teste, tfidf_matrix_teste)"
   ]
  },
  {
   "cell_type": "markdown",
   "execution_count": null,
   "metadata": {},
   "source": [
    "Now apply on the correct dataset"
   ]
  },
  {
   "cell_type": "code",
   "execution_count": 28,
   "metadata": {},
   "outputs": [],
   "source": [
    "cosine_sim_half = cosine_similarity(tfidf_matrix_half, tfidf_matrix_half)"
   ]
  },
  {
   "cell_type": "code",
   "execution_count": 29,
   "metadata": {},
   "outputs": [
    {
     "name": "stdout",
     "output_type": "stream",
     "text": [
      "[[1.         0.03002355 0.00784485 ... 0.         0.         0.00976852]\n",
      " [0.03002355 1.         0.03582965 ... 0.00908275 0.02688147 0.00827609]\n",
      " [0.00784485 0.03582965 1.         ... 0.         0.         0.        ]\n",
      " ...\n",
      " [0.         0.00908275 0.         ... 1.         0.01548907 0.01721219]\n",
      " [0.         0.02688147 0.         ... 0.01548907 1.         0.        ]\n",
      " [0.00976852 0.00827609 0.         ... 0.01721219 0.         1.        ]]\n"
     ]
    }
   ],
   "source": [
    "print(cosine_sim_half)"
   ]
  },
  {
   "cell_type": "code",
   "execution_count": 30,
   "metadata": {},
   "outputs": [
    {
     "data": {
      "text/plain": [
       "(17443, 17443)"
      ]
     },
     "execution_count": 30,
     "metadata": {},
     "output_type": "execute_result"
    }
   ],
   "source": [
    "cosine_sim_half.shape"
   ]
  },
  {
   "cell_type": "markdown",
   "execution_count": null,
   "metadata": {},
   "source": [
    "**Make the recommendations**"
   ]
  },
  {
   "cell_type": "code",
   "execution_count": 31,
   "metadata": {},
   "outputs": [
    {
     "data": {
      "text/plain": [
       "Title\n",
       "Kansas Saloon Smashers                  0\n",
       "Love by the Light of the Moon           1\n",
       "The Martyred Presidents                 2\n",
       "Terrible Teddy, the Grizzly King        3\n",
       "Jack and the Beanstalk                  4\n",
       "                                    ...  \n",
       "End Play                            17438\n",
       "Fantasm                             17439\n",
       "The Fourth Wish                     17440\n",
       "Illuminations                       17441\n",
       "Let the Balloon Go                  17442\n",
       "Length: 17443, dtype: int64"
      ]
     },
     "execution_count": 31,
     "metadata": {},
     "output_type": "execute_result"
    }
   ],
   "source": [
    "indices_half = pd.Series(md_half.index, index=md_half['Title']).drop_duplicates() #pegar os nomes de cada filme\n",
    "indices_half"
   ]
  },
  {
   "cell_type": "code",
   "execution_count": 32,
   "metadata": {},
   "outputs": [],
   "source": [
    "\n",
    "def get_recommendations(title, cosine_sim, indices):\n",
    "    idx = indices[title]\n",
    "    sim_scores = list(enumerate(cosine_sim[idx]))\n",
    "    sim_scores = sorted(sim_scores, key=lambda x: x[1], reverse=True)\n",
    "    sim_scores = sim_scores[1:6]\n",
    "    movie_indices = [i[0] for i in sim_scores]\n",
    "    return md_half['Title'].iloc[movie_indices]"
   ]
  },
  {
   "cell_type": "code",
   "execution_count": 33,
   "metadata": {},
   "outputs": [
    {
     "name": "stdout",
     "output_type": "stream",
     "text": [
      "11175           Family Business\n",
      "7464      A Cold Wind in August\n",
      "13512          Mickey Blue Eyes\n",
      "9042      The Godfather Part II\n",
      "11411    The Godfather Part III\n",
      "Name: Title, dtype: object\n"
     ]
    }
   ],
   "source": [
    "print(get_recommendations('The Godfather', cosine_sim_half, indices_half))"
   ]
  }
 ],
 "metadata": {
  "kernelspec": {
   "display_name": "Python 3",
   "language": "python",
   "name": "python3"
  },
  "language_info": {
   "codemirror_mode": {
    "name": "ipython",
    "version": 3
   },
   "file_extension": ".py",
   "mimetype": "text/x-python",
   "name": "python",
   "nbconvert_exporter": "python",
   "pygments_lexer": "ipython3",
   "version": "3.7.6"
  }
 },
 "nbformat": 4,
 "nbformat_minor": 4
}
