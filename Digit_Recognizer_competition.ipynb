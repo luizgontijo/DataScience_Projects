{
  "nbformat": 4,
  "nbformat_minor": 0,
  "metadata": {
    "kernelspec": {
      "display_name": "Python 3",
      "language": "python",
      "name": "python3"
    },
    "language_info": {
      "codemirror_mode": {
        "name": "ipython",
        "version": 3
      },
      "file_extension": ".py",
      "mimetype": "text/x-python",
      "name": "python",
      "nbconvert_exporter": "python",
      "pygments_lexer": "ipython3",
      "version": "3.7.6"
    },
    "colab": {
      "name": "Digit-Recognizer-competition.ipynb",
      "provenance": [],
      "include_colab_link": true
    }
  },
  "cells": [
    {
      "cell_type": "markdown",
      "metadata": {
        "id": "view-in-github",
        "colab_type": "text"
      },
      "source": [
        "<a href=\"https://colab.research.google.com/github/luizgontijo/DataScience_Projects/blob/master/Digit_Recognizer_competition.ipynb\" target=\"_parent\"><img src=\"https://colab.research.google.com/assets/colab-badge.svg\" alt=\"Open In Colab\"/></a>"
      ]
    },
    {
      "cell_type": "markdown",
      "metadata": {
        "id": "d0Y-Cl9f2HbK",
        "colab_type": "text"
      },
      "source": [
        "![banner_mnist.jpg](/img/banner_mnist.png)"
      ]
    },
    {
      "cell_type": "markdown",
      "metadata": {
        "id": "2ErtXHz0vq4N",
        "colab_type": "text"
      },
      "source": [
        "# MNIST Competition\n",
        "\n",
        "In this competition, the goal is to correctly identify digits from a dataset of tens of thousands of handwritten images. Each image is 28x28 pixels and corresponds to handwritten numbers. \n",
        "\n",
        "This notebook aims to apply neural networks to predict the number of each pixel set. The metodology of this work is:\n",
        "\n",
        "1.   Set libraries;\n",
        "2.   Set data from google drive;\n",
        "3.   Analyze the data and show some numbers;\n",
        "4.   Pre-process the images;\n",
        "5.   Test some models based in neural networks using Keras library\n",
        "6.   Choose the best model;\n",
        "7.   Apply the model in the test dataset and create a file to submint.\n",
        "\n",
        "This notebook was created to apply some lessons that I had about machine learning and image processing. This is a first try and has space to some improves and usage of others machine learning techniques, like CNN and LSTM.\n",
        "\n",
        "I am very greatfull to show this work and I hope I can contribute with some future works."
      ]
    },
    {
      "cell_type": "markdown",
      "metadata": {
        "id": "l6XWpiUhsLx8",
        "colab_type": "text"
      },
      "source": [
        "## Setting libraries"
      ]
    },
    {
      "cell_type": "code",
      "metadata": {
        "id": "q6zQvanQsLx9",
        "colab_type": "code",
        "colab": {}
      },
      "source": [
        "# basics\n",
        "import numpy as np \n",
        "import pandas as pd\n",
        "from keras.utils import np_utils\n",
        "from keras.utils.np_utils import to_categorical\n",
        "\n",
        "\n",
        "# plotting\n",
        "import seaborn as sns\n",
        "import matplotlib.pyplot as plt\n",
        "\n",
        "# modeling\n",
        "from keras.models import Sequential\n",
        "from keras.utils import np_utils\n",
        "from keras.layers.core import Dense, Activation, Dropout\n",
        "from keras.callbacks import History \n",
        "from keras.callbacks import EarlyStopping\n",
        "\n",
        "# acess data from google drive\n",
        "from google.colab import drive\n",
        "from google.colab import files\n"
      ],
      "execution_count": 5,
      "outputs": []
    },
    {
      "cell_type": "markdown",
      "metadata": {
        "id": "VCKEEM2nsLyB",
        "colab_type": "text"
      },
      "source": [
        "## Setting the data"
      ]
    },
    {
      "cell_type": "code",
      "metadata": {
        "id": "ZtSESHy-uw0m",
        "colab_type": "code",
        "colab": {
          "base_uri": "https://localhost:8080/",
          "height": 54
        },
        "outputId": "3d4ca718-b833-424c-c73f-cf225fe99a72"
      },
      "source": [
        "from google.colab import drive\n",
        "drive.mount('/content/drive')"
      ],
      "execution_count": 4,
      "outputs": [
        {
          "output_type": "stream",
          "text": [
            "Drive already mounted at /content/drive; to attempt to forcibly remount, call drive.mount(\"/content/drive\", force_remount=True).\n"
          ],
          "name": "stdout"
        }
      ]
    },
    {
      "cell_type": "code",
      "metadata": {
        "_cell_guid": "79c7e3d0-c299-4dcb-8224-4455121ee9b0",
        "_uuid": "d629ff2d2480ee46fbb7e2d37f6b5fab8052498a",
        "id": "MiBKBzMQsLyC",
        "colab_type": "code",
        "colab": {}
      },
      "source": [
        "test = pd.read_csv('/content/drive/My Drive/Datasets/digit-recognizer/test.csv')\n",
        "train = pd.read_csv('/content/drive/My Drive/Datasets/digit-recognizer/train.csv')"
      ],
      "execution_count": null,
      "outputs": []
    },
    {
      "cell_type": "markdown",
      "metadata": {
        "id": "Cw4p3L3ZsLyG",
        "colab_type": "text"
      },
      "source": [
        "## Analyzing the data"
      ]
    },
    {
      "cell_type": "code",
      "metadata": {
        "id": "mLNrEigrsLyG",
        "colab_type": "code",
        "colab": {},
        "outputId": "94ecce49-773f-457c-d77a-08db5876db4b"
      },
      "source": [
        "print(train.shape) # 784 pixels in each image\n",
        "train.head() "
      ],
      "execution_count": null,
      "outputs": [
        {
          "output_type": "stream",
          "text": [
            "(42000, 785)\n"
          ],
          "name": "stdout"
        },
        {
          "output_type": "execute_result",
          "data": {
            "text/html": [
              "<div>\n",
              "<style scoped>\n",
              "    .dataframe tbody tr th:only-of-type {\n",
              "        vertical-align: middle;\n",
              "    }\n",
              "\n",
              "    .dataframe tbody tr th {\n",
              "        vertical-align: top;\n",
              "    }\n",
              "\n",
              "    .dataframe thead th {\n",
              "        text-align: right;\n",
              "    }\n",
              "</style>\n",
              "<table border=\"1\" class=\"dataframe\">\n",
              "  <thead>\n",
              "    <tr style=\"text-align: right;\">\n",
              "      <th></th>\n",
              "      <th>label</th>\n",
              "      <th>pixel0</th>\n",
              "      <th>pixel1</th>\n",
              "      <th>pixel2</th>\n",
              "      <th>pixel3</th>\n",
              "      <th>pixel4</th>\n",
              "      <th>pixel5</th>\n",
              "      <th>pixel6</th>\n",
              "      <th>pixel7</th>\n",
              "      <th>pixel8</th>\n",
              "      <th>...</th>\n",
              "      <th>pixel774</th>\n",
              "      <th>pixel775</th>\n",
              "      <th>pixel776</th>\n",
              "      <th>pixel777</th>\n",
              "      <th>pixel778</th>\n",
              "      <th>pixel779</th>\n",
              "      <th>pixel780</th>\n",
              "      <th>pixel781</th>\n",
              "      <th>pixel782</th>\n",
              "      <th>pixel783</th>\n",
              "    </tr>\n",
              "  </thead>\n",
              "  <tbody>\n",
              "    <tr>\n",
              "      <th>0</th>\n",
              "      <td>1</td>\n",
              "      <td>0</td>\n",
              "      <td>0</td>\n",
              "      <td>0</td>\n",
              "      <td>0</td>\n",
              "      <td>0</td>\n",
              "      <td>0</td>\n",
              "      <td>0</td>\n",
              "      <td>0</td>\n",
              "      <td>0</td>\n",
              "      <td>...</td>\n",
              "      <td>0</td>\n",
              "      <td>0</td>\n",
              "      <td>0</td>\n",
              "      <td>0</td>\n",
              "      <td>0</td>\n",
              "      <td>0</td>\n",
              "      <td>0</td>\n",
              "      <td>0</td>\n",
              "      <td>0</td>\n",
              "      <td>0</td>\n",
              "    </tr>\n",
              "    <tr>\n",
              "      <th>1</th>\n",
              "      <td>0</td>\n",
              "      <td>0</td>\n",
              "      <td>0</td>\n",
              "      <td>0</td>\n",
              "      <td>0</td>\n",
              "      <td>0</td>\n",
              "      <td>0</td>\n",
              "      <td>0</td>\n",
              "      <td>0</td>\n",
              "      <td>0</td>\n",
              "      <td>...</td>\n",
              "      <td>0</td>\n",
              "      <td>0</td>\n",
              "      <td>0</td>\n",
              "      <td>0</td>\n",
              "      <td>0</td>\n",
              "      <td>0</td>\n",
              "      <td>0</td>\n",
              "      <td>0</td>\n",
              "      <td>0</td>\n",
              "      <td>0</td>\n",
              "    </tr>\n",
              "    <tr>\n",
              "      <th>2</th>\n",
              "      <td>1</td>\n",
              "      <td>0</td>\n",
              "      <td>0</td>\n",
              "      <td>0</td>\n",
              "      <td>0</td>\n",
              "      <td>0</td>\n",
              "      <td>0</td>\n",
              "      <td>0</td>\n",
              "      <td>0</td>\n",
              "      <td>0</td>\n",
              "      <td>...</td>\n",
              "      <td>0</td>\n",
              "      <td>0</td>\n",
              "      <td>0</td>\n",
              "      <td>0</td>\n",
              "      <td>0</td>\n",
              "      <td>0</td>\n",
              "      <td>0</td>\n",
              "      <td>0</td>\n",
              "      <td>0</td>\n",
              "      <td>0</td>\n",
              "    </tr>\n",
              "    <tr>\n",
              "      <th>3</th>\n",
              "      <td>4</td>\n",
              "      <td>0</td>\n",
              "      <td>0</td>\n",
              "      <td>0</td>\n",
              "      <td>0</td>\n",
              "      <td>0</td>\n",
              "      <td>0</td>\n",
              "      <td>0</td>\n",
              "      <td>0</td>\n",
              "      <td>0</td>\n",
              "      <td>...</td>\n",
              "      <td>0</td>\n",
              "      <td>0</td>\n",
              "      <td>0</td>\n",
              "      <td>0</td>\n",
              "      <td>0</td>\n",
              "      <td>0</td>\n",
              "      <td>0</td>\n",
              "      <td>0</td>\n",
              "      <td>0</td>\n",
              "      <td>0</td>\n",
              "    </tr>\n",
              "    <tr>\n",
              "      <th>4</th>\n",
              "      <td>0</td>\n",
              "      <td>0</td>\n",
              "      <td>0</td>\n",
              "      <td>0</td>\n",
              "      <td>0</td>\n",
              "      <td>0</td>\n",
              "      <td>0</td>\n",
              "      <td>0</td>\n",
              "      <td>0</td>\n",
              "      <td>0</td>\n",
              "      <td>...</td>\n",
              "      <td>0</td>\n",
              "      <td>0</td>\n",
              "      <td>0</td>\n",
              "      <td>0</td>\n",
              "      <td>0</td>\n",
              "      <td>0</td>\n",
              "      <td>0</td>\n",
              "      <td>0</td>\n",
              "      <td>0</td>\n",
              "      <td>0</td>\n",
              "    </tr>\n",
              "  </tbody>\n",
              "</table>\n",
              "<p>5 rows × 785 columns</p>\n",
              "</div>"
            ],
            "text/plain": [
              "   label  pixel0  pixel1  pixel2  pixel3  pixel4  pixel5  pixel6  pixel7  \\\n",
              "0      1       0       0       0       0       0       0       0       0   \n",
              "1      0       0       0       0       0       0       0       0       0   \n",
              "2      1       0       0       0       0       0       0       0       0   \n",
              "3      4       0       0       0       0       0       0       0       0   \n",
              "4      0       0       0       0       0       0       0       0       0   \n",
              "\n",
              "   pixel8  ...  pixel774  pixel775  pixel776  pixel777  pixel778  pixel779  \\\n",
              "0       0  ...         0         0         0         0         0         0   \n",
              "1       0  ...         0         0         0         0         0         0   \n",
              "2       0  ...         0         0         0         0         0         0   \n",
              "3       0  ...         0         0         0         0         0         0   \n",
              "4       0  ...         0         0         0         0         0         0   \n",
              "\n",
              "   pixel780  pixel781  pixel782  pixel783  \n",
              "0         0         0         0         0  \n",
              "1         0         0         0         0  \n",
              "2         0         0         0         0  \n",
              "3         0         0         0         0  \n",
              "4         0         0         0         0  \n",
              "\n",
              "[5 rows x 785 columns]"
            ]
          },
          "metadata": {
            "tags": []
          },
          "execution_count": 3
        }
      ]
    },
    {
      "cell_type": "code",
      "metadata": {
        "id": "VzK7vTUjsLyJ",
        "colab_type": "code",
        "colab": {},
        "outputId": "a5662271-f5e7-4d2f-d4f5-5cf01b97781c"
      },
      "source": [
        "print(test.shape) # test dataset do not has label column\n",
        "test.head()"
      ],
      "execution_count": null,
      "outputs": [
        {
          "output_type": "stream",
          "text": [
            "(28000, 784)\n"
          ],
          "name": "stdout"
        },
        {
          "output_type": "execute_result",
          "data": {
            "text/html": [
              "<div>\n",
              "<style scoped>\n",
              "    .dataframe tbody tr th:only-of-type {\n",
              "        vertical-align: middle;\n",
              "    }\n",
              "\n",
              "    .dataframe tbody tr th {\n",
              "        vertical-align: top;\n",
              "    }\n",
              "\n",
              "    .dataframe thead th {\n",
              "        text-align: right;\n",
              "    }\n",
              "</style>\n",
              "<table border=\"1\" class=\"dataframe\">\n",
              "  <thead>\n",
              "    <tr style=\"text-align: right;\">\n",
              "      <th></th>\n",
              "      <th>pixel0</th>\n",
              "      <th>pixel1</th>\n",
              "      <th>pixel2</th>\n",
              "      <th>pixel3</th>\n",
              "      <th>pixel4</th>\n",
              "      <th>pixel5</th>\n",
              "      <th>pixel6</th>\n",
              "      <th>pixel7</th>\n",
              "      <th>pixel8</th>\n",
              "      <th>pixel9</th>\n",
              "      <th>...</th>\n",
              "      <th>pixel774</th>\n",
              "      <th>pixel775</th>\n",
              "      <th>pixel776</th>\n",
              "      <th>pixel777</th>\n",
              "      <th>pixel778</th>\n",
              "      <th>pixel779</th>\n",
              "      <th>pixel780</th>\n",
              "      <th>pixel781</th>\n",
              "      <th>pixel782</th>\n",
              "      <th>pixel783</th>\n",
              "    </tr>\n",
              "  </thead>\n",
              "  <tbody>\n",
              "    <tr>\n",
              "      <th>0</th>\n",
              "      <td>0</td>\n",
              "      <td>0</td>\n",
              "      <td>0</td>\n",
              "      <td>0</td>\n",
              "      <td>0</td>\n",
              "      <td>0</td>\n",
              "      <td>0</td>\n",
              "      <td>0</td>\n",
              "      <td>0</td>\n",
              "      <td>0</td>\n",
              "      <td>...</td>\n",
              "      <td>0</td>\n",
              "      <td>0</td>\n",
              "      <td>0</td>\n",
              "      <td>0</td>\n",
              "      <td>0</td>\n",
              "      <td>0</td>\n",
              "      <td>0</td>\n",
              "      <td>0</td>\n",
              "      <td>0</td>\n",
              "      <td>0</td>\n",
              "    </tr>\n",
              "    <tr>\n",
              "      <th>1</th>\n",
              "      <td>0</td>\n",
              "      <td>0</td>\n",
              "      <td>0</td>\n",
              "      <td>0</td>\n",
              "      <td>0</td>\n",
              "      <td>0</td>\n",
              "      <td>0</td>\n",
              "      <td>0</td>\n",
              "      <td>0</td>\n",
              "      <td>0</td>\n",
              "      <td>...</td>\n",
              "      <td>0</td>\n",
              "      <td>0</td>\n",
              "      <td>0</td>\n",
              "      <td>0</td>\n",
              "      <td>0</td>\n",
              "      <td>0</td>\n",
              "      <td>0</td>\n",
              "      <td>0</td>\n",
              "      <td>0</td>\n",
              "      <td>0</td>\n",
              "    </tr>\n",
              "    <tr>\n",
              "      <th>2</th>\n",
              "      <td>0</td>\n",
              "      <td>0</td>\n",
              "      <td>0</td>\n",
              "      <td>0</td>\n",
              "      <td>0</td>\n",
              "      <td>0</td>\n",
              "      <td>0</td>\n",
              "      <td>0</td>\n",
              "      <td>0</td>\n",
              "      <td>0</td>\n",
              "      <td>...</td>\n",
              "      <td>0</td>\n",
              "      <td>0</td>\n",
              "      <td>0</td>\n",
              "      <td>0</td>\n",
              "      <td>0</td>\n",
              "      <td>0</td>\n",
              "      <td>0</td>\n",
              "      <td>0</td>\n",
              "      <td>0</td>\n",
              "      <td>0</td>\n",
              "    </tr>\n",
              "    <tr>\n",
              "      <th>3</th>\n",
              "      <td>0</td>\n",
              "      <td>0</td>\n",
              "      <td>0</td>\n",
              "      <td>0</td>\n",
              "      <td>0</td>\n",
              "      <td>0</td>\n",
              "      <td>0</td>\n",
              "      <td>0</td>\n",
              "      <td>0</td>\n",
              "      <td>0</td>\n",
              "      <td>...</td>\n",
              "      <td>0</td>\n",
              "      <td>0</td>\n",
              "      <td>0</td>\n",
              "      <td>0</td>\n",
              "      <td>0</td>\n",
              "      <td>0</td>\n",
              "      <td>0</td>\n",
              "      <td>0</td>\n",
              "      <td>0</td>\n",
              "      <td>0</td>\n",
              "    </tr>\n",
              "    <tr>\n",
              "      <th>4</th>\n",
              "      <td>0</td>\n",
              "      <td>0</td>\n",
              "      <td>0</td>\n",
              "      <td>0</td>\n",
              "      <td>0</td>\n",
              "      <td>0</td>\n",
              "      <td>0</td>\n",
              "      <td>0</td>\n",
              "      <td>0</td>\n",
              "      <td>0</td>\n",
              "      <td>...</td>\n",
              "      <td>0</td>\n",
              "      <td>0</td>\n",
              "      <td>0</td>\n",
              "      <td>0</td>\n",
              "      <td>0</td>\n",
              "      <td>0</td>\n",
              "      <td>0</td>\n",
              "      <td>0</td>\n",
              "      <td>0</td>\n",
              "      <td>0</td>\n",
              "    </tr>\n",
              "  </tbody>\n",
              "</table>\n",
              "<p>5 rows × 784 columns</p>\n",
              "</div>"
            ],
            "text/plain": [
              "   pixel0  pixel1  pixel2  pixel3  pixel4  pixel5  pixel6  pixel7  pixel8  \\\n",
              "0       0       0       0       0       0       0       0       0       0   \n",
              "1       0       0       0       0       0       0       0       0       0   \n",
              "2       0       0       0       0       0       0       0       0       0   \n",
              "3       0       0       0       0       0       0       0       0       0   \n",
              "4       0       0       0       0       0       0       0       0       0   \n",
              "\n",
              "   pixel9  ...  pixel774  pixel775  pixel776  pixel777  pixel778  pixel779  \\\n",
              "0       0  ...         0         0         0         0         0         0   \n",
              "1       0  ...         0         0         0         0         0         0   \n",
              "2       0  ...         0         0         0         0         0         0   \n",
              "3       0  ...         0         0         0         0         0         0   \n",
              "4       0  ...         0         0         0         0         0         0   \n",
              "\n",
              "   pixel780  pixel781  pixel782  pixel783  \n",
              "0         0         0         0         0  \n",
              "1         0         0         0         0  \n",
              "2         0         0         0         0  \n",
              "3         0         0         0         0  \n",
              "4         0         0         0         0  \n",
              "\n",
              "[5 rows x 784 columns]"
            ]
          },
          "metadata": {
            "tags": []
          },
          "execution_count": 4
        }
      ]
    },
    {
      "cell_type": "code",
      "metadata": {
        "id": "gIXCU73VsLyL",
        "colab_type": "code",
        "colab": {}
      },
      "source": [
        "X_train = (train.iloc[:,1:].values).astype('float32') # make a matrix pixel values for each label(number)\n",
        "y_train = train.iloc[:,0].values.astype('int32') # number of each image - one number per row\n",
        "X_test = test.values.astype('float32')"
      ],
      "execution_count": null,
      "outputs": []
    },
    {
      "cell_type": "code",
      "metadata": {
        "id": "vlDgU_UwsLyO",
        "colab_type": "code",
        "colab": {},
        "outputId": "3ee74392-3eab-4511-b529-418070da4157"
      },
      "source": [
        "print(X_train.shape)\n",
        "X_train"
      ],
      "execution_count": null,
      "outputs": [
        {
          "output_type": "stream",
          "text": [
            "(42000, 784)\n"
          ],
          "name": "stdout"
        },
        {
          "output_type": "execute_result",
          "data": {
            "text/plain": [
              "array([[0., 0., 0., ..., 0., 0., 0.],\n",
              "       [0., 0., 0., ..., 0., 0., 0.],\n",
              "       [0., 0., 0., ..., 0., 0., 0.],\n",
              "       ...,\n",
              "       [0., 0., 0., ..., 0., 0., 0.],\n",
              "       [0., 0., 0., ..., 0., 0., 0.],\n",
              "       [0., 0., 0., ..., 0., 0., 0.]], dtype=float32)"
            ]
          },
          "metadata": {
            "tags": []
          },
          "execution_count": 6
        }
      ]
    },
    {
      "cell_type": "code",
      "metadata": {
        "id": "_o1t5qTRsLyQ",
        "colab_type": "code",
        "colab": {},
        "outputId": "bc57cfc2-a824-4635-ae7e-0d34e03b034b"
      },
      "source": [
        "print(y_train.shape)\n",
        "y_train"
      ],
      "execution_count": null,
      "outputs": [
        {
          "output_type": "stream",
          "text": [
            "(42000,)\n"
          ],
          "name": "stdout"
        },
        {
          "output_type": "execute_result",
          "data": {
            "text/plain": [
              "array([1, 0, 1, ..., 7, 6, 9], dtype=int32)"
            ]
          },
          "metadata": {
            "tags": []
          },
          "execution_count": 7
        }
      ]
    },
    {
      "cell_type": "code",
      "metadata": {
        "id": "Qf35GEnFsLyT",
        "colab_type": "code",
        "colab": {},
        "outputId": "4a574115-8ffd-4366-ba1c-bb76ac57cc72"
      },
      "source": [
        "X_test"
      ],
      "execution_count": null,
      "outputs": [
        {
          "output_type": "execute_result",
          "data": {
            "text/plain": [
              "array([[0., 0., 0., ..., 0., 0., 0.],\n",
              "       [0., 0., 0., ..., 0., 0., 0.],\n",
              "       [0., 0., 0., ..., 0., 0., 0.],\n",
              "       ...,\n",
              "       [0., 0., 0., ..., 0., 0., 0.],\n",
              "       [0., 0., 0., ..., 0., 0., 0.],\n",
              "       [0., 0., 0., ..., 0., 0., 0.]], dtype=float32)"
            ]
          },
          "metadata": {
            "tags": []
          },
          "execution_count": 8
        }
      ]
    },
    {
      "cell_type": "markdown",
      "metadata": {
        "id": "Q7JjX6sRsLyV",
        "colab_type": "text"
      },
      "source": [
        "### Show some images"
      ]
    },
    {
      "cell_type": "code",
      "metadata": {
        "id": "r1LKzRhCsLyW",
        "colab_type": "code",
        "colab": {}
      },
      "source": [
        "# convert rows to matrixes for each number\n",
        "train.iloc[[1]] # each image with 785 pixels - images with 28x28 pixels\n",
        "\n",
        "X_train = X_train.reshape(X_train.shape[0], 28, 28) "
      ],
      "execution_count": null,
      "outputs": []
    },
    {
      "cell_type": "code",
      "metadata": {
        "id": "UNnORNcDsLyY",
        "colab_type": "code",
        "colab": {},
        "outputId": "1f8d58e8-d342-43cc-e09f-3b4418e5d2b0"
      },
      "source": [
        "plt.imshow(X_train[9], cmap=plt.get_cmap('gray')) # display one image\n",
        "plt.title(y_train[9]) "
      ],
      "execution_count": null,
      "outputs": [
        {
          "output_type": "execute_result",
          "data": {
            "text/plain": [
              "Text(0.5, 1.0, '3')"
            ]
          },
          "metadata": {
            "tags": []
          },
          "execution_count": 10
        },
        {
          "output_type": "display_data",
          "data": {
            "image/png": "[encoded data removed]",
            "text/plain": [
              "<Figure size 432x288 with 1 Axes>"
            ]
          },
          "metadata": {
            "tags": [],
            "needs_background": "light"
          }
        }
      ]
    },
    {
      "cell_type": "code",
      "metadata": {
        "id": "eIrANJ3ksLya",
        "colab_type": "code",
        "colab": {},
        "outputId": "7091443d-ab36-4f69-e258-7bf4bcdb570b"
      },
      "source": [
        "# display more imagens\n",
        "for i in range(0, 9):\n",
        "    plt.subplot(330 + (i+1))\n",
        "    plt.imshow(X_train[i],cmap=plt.get_cmap('gray'))\n",
        "    plt.title(y_train[i]);"
      ],
      "execution_count": null,
      "outputs": [
        {
          "output_type": "display_data",
          "data": {
            "image/png": "[encoded data removed]",
            "text/plain": [
              "<Figure size 432x288 with 9 Axes>"
            ]
          },
          "metadata": {
            "tags": [],
            "needs_background": "light"
          }
        }
      ]
    },
    {
      "cell_type": "markdown",
      "metadata": {
        "id": "NvBGNeTpsLyd",
        "colab_type": "text"
      },
      "source": [
        "## Pre-processing the data"
      ]
    },
    {
      "cell_type": "code",
      "metadata": {
        "id": "yrCDuxU_sLyd",
        "colab_type": "code",
        "colab": {},
        "outputId": "ce5047f5-f6e4-4e8d-f3dd-5cf5808bd15d"
      },
      "source": [
        "X_train = X_train.reshape(X_train.shape[0], 28*28,) # back to initial matrix\n",
        "X_test = X_test.reshape(X_test.shape[0], 28*28,)\n",
        "print(X_train.shape)\n",
        "print(X_test.shape)"
      ],
      "execution_count": null,
      "outputs": [
        {
          "output_type": "stream",
          "text": [
            "(42000, 784)\n",
            "(28000, 784)\n"
          ],
          "name": "stdout"
        }
      ]
    },
    {
      "cell_type": "code",
      "metadata": {
        "id": "djaZOcA7sLyf",
        "colab_type": "code",
        "colab": {},
        "outputId": "e6b3914c-9b72-4c80-b9f1-19c235416d20"
      },
      "source": [
        "print(X_train.max(axis=1)) # max values in each row "
      ],
      "execution_count": null,
      "outputs": [
        {
          "output_type": "stream",
          "text": [
            "[255. 255. 255. ... 255. 255. 255.]\n"
          ],
          "name": "stdout"
        }
      ]
    },
    {
      "cell_type": "code",
      "metadata": {
        "id": "ek929qzlsLyh",
        "colab_type": "code",
        "colab": {}
      },
      "source": [
        "# normalizing\n",
        "scale = np.max(X_train)\n",
        "X_train /= scale\n",
        "X_test /= scale"
      ],
      "execution_count": null,
      "outputs": []
    },
    {
      "cell_type": "code",
      "metadata": {
        "id": "KP0LW1OCsLyj",
        "colab_type": "code",
        "colab": {},
        "outputId": "68f331f2-908c-4467-c1c6-94f6fe4446f3"
      },
      "source": [
        "X_train.max(axis=1) # values normalized - max values = 1"
      ],
      "execution_count": null,
      "outputs": [
        {
          "output_type": "execute_result",
          "data": {
            "text/plain": [
              "array([1., 1., 1., ..., 1., 1., 1.], dtype=float32)"
            ]
          },
          "metadata": {
            "tags": []
          },
          "execution_count": 15
        }
      ]
    },
    {
      "cell_type": "code",
      "metadata": {
        "id": "_MWPRvL6sLym",
        "colab_type": "code",
        "colab": {}
      },
      "source": [
        "# take out the mean to decrease the correlation\n",
        "mean = np.std(X_train)\n",
        "X_train -= mean\n",
        "X_test -= mean"
      ],
      "execution_count": null,
      "outputs": []
    },
    {
      "cell_type": "code",
      "metadata": {
        "id": "xGxrmKussLyo",
        "colab_type": "code",
        "colab": {}
      },
      "source": [
        "input_shape = X_train.shape[1]\n",
        "classes = y_train"
      ],
      "execution_count": null,
      "outputs": []
    },
    {
      "cell_type": "code",
      "metadata": {
        "id": "3DmP18KAsLyr",
        "colab_type": "code",
        "colab": {}
      },
      "source": [
        "y_train =  to_categorical(y_train) # number of each set of pixels needs to be categorical"
      ],
      "execution_count": null,
      "outputs": []
    },
    {
      "cell_type": "markdown",
      "metadata": {
        "id": "KR1rALavsLyt",
        "colab_type": "text"
      },
      "source": [
        "## Test some models"
      ]
    },
    {
      "cell_type": "markdown",
      "metadata": {
        "id": "82Gc4seJsLyu",
        "colab_type": "text"
      },
      "source": [
        "### model1: 1 hidden layer with 100 neurons"
      ]
    },
    {
      "cell_type": "code",
      "metadata": {
        "id": "PNmMqCeCsLyu",
        "colab_type": "code",
        "colab": {}
      },
      "source": [
        "model1 = Sequential()\n",
        "model1.add(Dense(100, activation='relu', input_shape=(input_shape,)))\n",
        "model1.add(Dense(10, activation='softmax'))\n",
        "model1.compile(optimizer='adam', loss='categorical_crossentropy', metrics=['accuracy'])"
      ],
      "execution_count": null,
      "outputs": []
    },
    {
      "cell_type": "code",
      "metadata": {
        "id": "N_M4yy84sLyw",
        "colab_type": "code",
        "colab": {},
        "outputId": "c01c0497-fcdd-437e-ade3-5a6a86ffc555"
      },
      "source": [
        "model1.summary()"
      ],
      "execution_count": null,
      "outputs": [
        {
          "output_type": "stream",
          "text": [
            "Model: \"sequential_1\"\n",
            "_________________________________________________________________\n",
            "Layer (type)                 Output Shape              Param #   \n",
            "=================================================================\n",
            "dense_1 (Dense)              (None, 100)               78500     \n",
            "_________________________________________________________________\n",
            "dense_2 (Dense)              (None, 10)                1010      \n",
            "=================================================================\n",
            "Total params: 79,510\n",
            "Trainable params: 79,510\n",
            "Non-trainable params: 0\n",
            "_________________________________________________________________\n"
          ],
          "name": "stdout"
        }
      ]
    },
    {
      "cell_type": "code",
      "metadata": {
        "id": "_Rit-aQNsLyy",
        "colab_type": "code",
        "colab": {},
        "outputId": "af5a9ef5-7969-4d70-dfb6-b6ed860bcee8"
      },
      "source": [
        "history_model1 = model1.fit(X_train, y_train, nb_epoch=10, batch_size=16,validation_split=0.1)"
      ],
      "execution_count": null,
      "outputs": [
        {
          "output_type": "stream",
          "text": [
            "/opt/conda/lib/python3.7/site-packages/ipykernel_launcher.py:1: UserWarning: The `nb_epoch` argument in `fit` has been renamed `epochs`.\n",
            "  \"\"\"Entry point for launching an IPython kernel.\n"
          ],
          "name": "stderr"
        },
        {
          "output_type": "stream",
          "text": [
            "Train on 37800 samples, validate on 4200 samples\n",
            "Epoch 1/10\n",
            "37800/37800 [==============================] - 5s 144us/step - loss: 0.3173 - accuracy: 0.9052 - val_loss: 0.2117 - val_accuracy: 0.9357\n",
            "Epoch 2/10\n",
            "37800/37800 [==============================] - 5s 132us/step - loss: 0.1531 - accuracy: 0.9533 - val_loss: 0.1657 - val_accuracy: 0.9476\n",
            "Epoch 3/10\n",
            "37800/37800 [==============================] - 5s 131us/step - loss: 0.1121 - accuracy: 0.9653 - val_loss: 0.1297 - val_accuracy: 0.9612\n",
            "Epoch 4/10\n",
            "37800/37800 [==============================] - 5s 134us/step - loss: 0.0873 - accuracy: 0.9728 - val_loss: 0.1240 - val_accuracy: 0.9595\n",
            "Epoch 5/10\n",
            "37800/37800 [==============================] - 5s 139us/step - loss: 0.0729 - accuracy: 0.9773 - val_loss: 0.1302 - val_accuracy: 0.9614\n",
            "Epoch 6/10\n",
            "37800/37800 [==============================] - 5s 133us/step - loss: 0.0621 - accuracy: 0.9799 - val_loss: 0.1215 - val_accuracy: 0.9626\n",
            "Epoch 7/10\n",
            "37800/37800 [==============================] - 5s 133us/step - loss: 0.0545 - accuracy: 0.9823 - val_loss: 0.1408 - val_accuracy: 0.9619\n",
            "Epoch 8/10\n",
            "37800/37800 [==============================] - 5s 132us/step - loss: 0.0451 - accuracy: 0.9854 - val_loss: 0.1454 - val_accuracy: 0.9593\n",
            "Epoch 9/10\n",
            "37800/37800 [==============================] - 5s 134us/step - loss: 0.0408 - accuracy: 0.9862 - val_loss: 0.1185 - val_accuracy: 0.9676\n",
            "Epoch 10/10\n",
            "37800/37800 [==============================] - 5s 130us/step - loss: 0.0381 - accuracy: 0.9874 - val_loss: 0.1271 - val_accuracy: 0.9674\n"
          ],
          "name": "stdout"
        }
      ]
    },
    {
      "cell_type": "code",
      "metadata": {
        "id": "26jUAuTFsLy0",
        "colab_type": "code",
        "colab": {},
        "outputId": "8ff67e64-d25b-446f-fb9f-a987b05dc864"
      },
      "source": [
        "history_model1.history['loss'][-1]"
      ],
      "execution_count": null,
      "outputs": [
        {
          "output_type": "execute_result",
          "data": {
            "text/plain": [
              "0.03810990891417734"
            ]
          },
          "metadata": {
            "tags": []
          },
          "execution_count": 22
        }
      ]
    },
    {
      "cell_type": "code",
      "metadata": {
        "id": "qNH3-MeDsLy4",
        "colab_type": "code",
        "colab": {},
        "outputId": "c9cde48c-1627-4536-b0fd-082e9b2a7382"
      },
      "source": [
        "results = pd.DataFrame(data = {'model': 'model1', \n",
        "                               'loss': [history_model1.history['loss'][-1]], \n",
        "                               'accuracy': [history_model1.history['accuracy'][-1]], \n",
        "                               'val_loss': [history_model1.history['val_loss'][-1]], \n",
        "                               'val_accuracy': [history_model1.history['val_accuracy'][-1]]})\n",
        "results"
      ],
      "execution_count": null,
      "outputs": [
        {
          "output_type": "execute_result",
          "data": {
            "text/html": [
              "<div>\n",
              "<style scoped>\n",
              "    .dataframe tbody tr th:only-of-type {\n",
              "        vertical-align: middle;\n",
              "    }\n",
              "\n",
              "    .dataframe tbody tr th {\n",
              "        vertical-align: top;\n",
              "    }\n",
              "\n",
              "    .dataframe thead th {\n",
              "        text-align: right;\n",
              "    }\n",
              "</style>\n",
              "<table border=\"1\" class=\"dataframe\">\n",
              "  <thead>\n",
              "    <tr style=\"text-align: right;\">\n",
              "      <th></th>\n",
              "      <th>model</th>\n",
              "      <th>loss</th>\n",
              "      <th>accuracy</th>\n",
              "      <th>val_loss</th>\n",
              "      <th>val_accuracy</th>\n",
              "    </tr>\n",
              "  </thead>\n",
              "  <tbody>\n",
              "    <tr>\n",
              "      <th>0</th>\n",
              "      <td>model1</td>\n",
              "      <td>0.03811</td>\n",
              "      <td>0.987381</td>\n",
              "      <td>0.127144</td>\n",
              "      <td>0.967381</td>\n",
              "    </tr>\n",
              "  </tbody>\n",
              "</table>\n",
              "</div>"
            ],
            "text/plain": [
              "    model     loss  accuracy  val_loss  val_accuracy\n",
              "0  model1  0.03811  0.987381  0.127144      0.967381"
            ]
          },
          "metadata": {
            "tags": []
          },
          "execution_count": 23
        }
      ]
    },
    {
      "cell_type": "markdown",
      "metadata": {
        "id": "98GYkJTWsLy7",
        "colab_type": "text"
      },
      "source": [
        "### model2 - 2 hidden layers with 100 neurons"
      ]
    },
    {
      "cell_type": "code",
      "metadata": {
        "id": "tyMnGJMesLy7",
        "colab_type": "code",
        "colab": {},
        "outputId": "3f283c94-5a6b-4072-b1e6-3d70e04cd694"
      },
      "source": [
        "model2 = Sequential()\n",
        "model2.add(Dense(100, activation='relu', input_shape=(input_shape,)))\n",
        "model2.add(Dense(100, activation='relu', input_shape=(input_shape,)))\n",
        "model2.add(Dense(10, activation='softmax'))\n",
        "model2.compile(optimizer='adam', loss='categorical_crossentropy', metrics=['accuracy'])\n",
        "history_model2 = model2.fit(X_train, y_train, nb_epoch=10, batch_size=16,validation_split=0.1)"
      ],
      "execution_count": null,
      "outputs": [
        {
          "output_type": "stream",
          "text": [
            "/opt/conda/lib/python3.7/site-packages/ipykernel_launcher.py:6: UserWarning: The `nb_epoch` argument in `fit` has been renamed `epochs`.\n",
            "  \n"
          ],
          "name": "stderr"
        },
        {
          "output_type": "stream",
          "text": [
            "Train on 37800 samples, validate on 4200 samples\n",
            "Epoch 1/10\n",
            "37800/37800 [==============================] - 6s 147us/step - loss: 0.3043 - accuracy: 0.9054 - val_loss: 0.1947 - val_accuracy: 0.9400\n",
            "Epoch 2/10\n",
            "37800/37800 [==============================] - 5s 142us/step - loss: 0.1458 - accuracy: 0.9535 - val_loss: 0.1343 - val_accuracy: 0.9586\n",
            "Epoch 3/10\n",
            "37800/37800 [==============================] - 5s 143us/step - loss: 0.1103 - accuracy: 0.9647 - val_loss: 0.1353 - val_accuracy: 0.9598\n",
            "Epoch 4/10\n",
            "37800/37800 [==============================] - 5s 142us/step - loss: 0.0900 - accuracy: 0.9719 - val_loss: 0.1332 - val_accuracy: 0.9586\n",
            "Epoch 5/10\n",
            "37800/37800 [==============================] - 6s 146us/step - loss: 0.0754 - accuracy: 0.9762 - val_loss: 0.1652 - val_accuracy: 0.9521\n",
            "Epoch 6/10\n",
            "37800/37800 [==============================] - 6s 148us/step - loss: 0.0615 - accuracy: 0.9794 - val_loss: 0.1124 - val_accuracy: 0.9655\n",
            "Epoch 7/10\n",
            "37800/37800 [==============================] - 5s 144us/step - loss: 0.0565 - accuracy: 0.9808 - val_loss: 0.1480 - val_accuracy: 0.9557\n",
            "Epoch 8/10\n",
            "37800/37800 [==============================] - 5s 142us/step - loss: 0.0483 - accuracy: 0.9840 - val_loss: 0.1212 - val_accuracy: 0.9640\n",
            "Epoch 9/10\n",
            "37800/37800 [==============================] - 5s 143us/step - loss: 0.0401 - accuracy: 0.9862 - val_loss: 0.1264 - val_accuracy: 0.9693\n",
            "Epoch 10/10\n",
            "37800/37800 [==============================] - 5s 142us/step - loss: 0.0409 - accuracy: 0.9863 - val_loss: 0.1239 - val_accuracy: 0.9671\n"
          ],
          "name": "stdout"
        }
      ]
    },
    {
      "cell_type": "code",
      "metadata": {
        "id": "Hzc4jwJFsLy9",
        "colab_type": "code",
        "colab": {},
        "outputId": "0528f3eb-c80d-4878-df64-46f65a825c53"
      },
      "source": [
        "results = pd.DataFrame(data = {'model': ['model1', 'model2'], \n",
        "                               'loss': [history_model1.history['loss'][-1], history_model2.history['loss'][-1]], \n",
        "                               'accuracy': [history_model1.history['accuracy'][-1], history_model2.history['accuracy'][-1]], \n",
        "                               'val_loss': [history_model1.history['val_loss'][-1], history_model2.history['val_loss'][-1]], \n",
        "                               'val_accuracy': [history_model1.history['val_accuracy'][-1], history_model2.history['val_accuracy'][-1]]})\n",
        "results\n"
      ],
      "execution_count": null,
      "outputs": [
        {
          "output_type": "execute_result",
          "data": {
            "text/html": [
              "<div>\n",
              "<style scoped>\n",
              "    .dataframe tbody tr th:only-of-type {\n",
              "        vertical-align: middle;\n",
              "    }\n",
              "\n",
              "    .dataframe tbody tr th {\n",
              "        vertical-align: top;\n",
              "    }\n",
              "\n",
              "    .dataframe thead th {\n",
              "        text-align: right;\n",
              "    }\n",
              "</style>\n",
              "<table border=\"1\" class=\"dataframe\">\n",
              "  <thead>\n",
              "    <tr style=\"text-align: right;\">\n",
              "      <th></th>\n",
              "      <th>model</th>\n",
              "      <th>loss</th>\n",
              "      <th>accuracy</th>\n",
              "      <th>val_loss</th>\n",
              "      <th>val_accuracy</th>\n",
              "    </tr>\n",
              "  </thead>\n",
              "  <tbody>\n",
              "    <tr>\n",
              "      <th>0</th>\n",
              "      <td>model1</td>\n",
              "      <td>0.038110</td>\n",
              "      <td>0.987381</td>\n",
              "      <td>0.127144</td>\n",
              "      <td>0.967381</td>\n",
              "    </tr>\n",
              "    <tr>\n",
              "      <th>1</th>\n",
              "      <td>model2</td>\n",
              "      <td>0.040895</td>\n",
              "      <td>0.986323</td>\n",
              "      <td>0.123926</td>\n",
              "      <td>0.967143</td>\n",
              "    </tr>\n",
              "  </tbody>\n",
              "</table>\n",
              "</div>"
            ],
            "text/plain": [
              "    model      loss  accuracy  val_loss  val_accuracy\n",
              "0  model1  0.038110  0.987381  0.127144      0.967381\n",
              "1  model2  0.040895  0.986323  0.123926      0.967143"
            ]
          },
          "metadata": {
            "tags": []
          },
          "execution_count": 25
        }
      ]
    },
    {
      "cell_type": "markdown",
      "metadata": {
        "id": "ga6c0cSTsLzA",
        "colab_type": "text"
      },
      "source": [
        "### model3 - 3 hidden layers with 100 neurons"
      ]
    },
    {
      "cell_type": "code",
      "metadata": {
        "id": "Lq5HtTFzsLzA",
        "colab_type": "code",
        "colab": {},
        "outputId": "e030503a-d984-49c9-e5af-85663b1b5656"
      },
      "source": [
        "model3 = Sequential()\n",
        "model3.add(Dense(100, activation='relu', input_shape=(input_shape,)))\n",
        "model3.add(Dense(100, activation='relu', input_shape=(input_shape,)))\n",
        "model3.add(Dense(100, activation='relu', input_shape=(input_shape,)))\n",
        "model3.add(Dense(10, activation='softmax'))\n",
        "model3.compile(optimizer='adam', loss='categorical_crossentropy', metrics=['accuracy'])\n",
        "history_model3 = model3.fit(X_train, y_train, nb_epoch=10, batch_size=16,validation_split=0.1)"
      ],
      "execution_count": null,
      "outputs": [
        {
          "output_type": "stream",
          "text": [
            "/opt/conda/lib/python3.7/site-packages/ipykernel_launcher.py:7: UserWarning: The `nb_epoch` argument in `fit` has been renamed `epochs`.\n",
            "  import sys\n"
          ],
          "name": "stderr"
        },
        {
          "output_type": "stream",
          "text": [
            "Train on 37800 samples, validate on 4200 samples\n",
            "Epoch 1/10\n",
            "37800/37800 [==============================] - 6s 158us/step - loss: 0.3089 - accuracy: 0.9042 - val_loss: 0.1729 - val_accuracy: 0.9486\n",
            "Epoch 2/10\n",
            "37800/37800 [==============================] - 6s 157us/step - loss: 0.1486 - accuracy: 0.9532 - val_loss: 0.1525 - val_accuracy: 0.9514\n",
            "Epoch 3/10\n",
            "37800/37800 [==============================] - 6s 155us/step - loss: 0.1154 - accuracy: 0.9635 - val_loss: 0.1276 - val_accuracy: 0.9595\n",
            "Epoch 4/10\n",
            "37800/37800 [==============================] - 6s 150us/step - loss: 0.0951 - accuracy: 0.9695 - val_loss: 0.1207 - val_accuracy: 0.9633\n",
            "Epoch 5/10\n",
            "37800/37800 [==============================] - 6s 151us/step - loss: 0.0762 - accuracy: 0.9755 - val_loss: 0.1131 - val_accuracy: 0.9657\n",
            "Epoch 6/10\n",
            "37800/37800 [==============================] - 6s 155us/step - loss: 0.0705 - accuracy: 0.9769 - val_loss: 0.1441 - val_accuracy: 0.9607\n",
            "Epoch 7/10\n",
            "37800/37800 [==============================] - 6s 153us/step - loss: 0.0611 - accuracy: 0.9799 - val_loss: 0.1212 - val_accuracy: 0.9652\n",
            "Epoch 8/10\n",
            "37800/37800 [==============================] - 6s 152us/step - loss: 0.0533 - accuracy: 0.9826 - val_loss: 0.1412 - val_accuracy: 0.9610\n",
            "Epoch 9/10\n",
            "37800/37800 [==============================] - 6s 149us/step - loss: 0.0494 - accuracy: 0.9839 - val_loss: 0.1168 - val_accuracy: 0.9664\n",
            "Epoch 10/10\n",
            "37800/37800 [==============================] - 6s 151us/step - loss: 0.0468 - accuracy: 0.9854 - val_loss: 0.1428 - val_accuracy: 0.9640\n"
          ],
          "name": "stdout"
        }
      ]
    },
    {
      "cell_type": "code",
      "metadata": {
        "id": "MFhDjsjRsLzC",
        "colab_type": "code",
        "colab": {},
        "outputId": "bf6a3c00-2959-43cd-c4bb-a1aae50bddb0"
      },
      "source": [
        "results = pd.DataFrame(data = {'model': ['model1', 'model2', 'model3'], \n",
        "                               'loss': [history_model1.history['loss'][-1], history_model2.history['loss'][-1], history_model3.history['loss'][-1]], \n",
        "                               'accuracy': [history_model1.history['accuracy'][-1], history_model2.history['accuracy'][-1], history_model3.history['accuracy'][-1]], \n",
        "                               'val_loss': [history_model1.history['val_loss'][-1], history_model2.history['val_loss'][-1], history_model3.history['val_loss'][-1]], \n",
        "                               'val_accuracy': [history_model1.history['val_accuracy'][-1], history_model2.history['val_accuracy'][-1], history_model3.history['val_accuracy'][-1]]})\n",
        "results"
      ],
      "execution_count": null,
      "outputs": [
        {
          "output_type": "execute_result",
          "data": {
            "text/html": [
              "<div>\n",
              "<style scoped>\n",
              "    .dataframe tbody tr th:only-of-type {\n",
              "        vertical-align: middle;\n",
              "    }\n",
              "\n",
              "    .dataframe tbody tr th {\n",
              "        vertical-align: top;\n",
              "    }\n",
              "\n",
              "    .dataframe thead th {\n",
              "        text-align: right;\n",
              "    }\n",
              "</style>\n",
              "<table border=\"1\" class=\"dataframe\">\n",
              "  <thead>\n",
              "    <tr style=\"text-align: right;\">\n",
              "      <th></th>\n",
              "      <th>model</th>\n",
              "      <th>loss</th>\n",
              "      <th>accuracy</th>\n",
              "      <th>val_loss</th>\n",
              "      <th>val_accuracy</th>\n",
              "    </tr>\n",
              "  </thead>\n",
              "  <tbody>\n",
              "    <tr>\n",
              "      <th>0</th>\n",
              "      <td>model1</td>\n",
              "      <td>0.038110</td>\n",
              "      <td>0.987381</td>\n",
              "      <td>0.127144</td>\n",
              "      <td>0.967381</td>\n",
              "    </tr>\n",
              "    <tr>\n",
              "      <th>1</th>\n",
              "      <td>model2</td>\n",
              "      <td>0.040895</td>\n",
              "      <td>0.986323</td>\n",
              "      <td>0.123926</td>\n",
              "      <td>0.967143</td>\n",
              "    </tr>\n",
              "    <tr>\n",
              "      <th>2</th>\n",
              "      <td>model3</td>\n",
              "      <td>0.046800</td>\n",
              "      <td>0.985423</td>\n",
              "      <td>0.142812</td>\n",
              "      <td>0.964048</td>\n",
              "    </tr>\n",
              "  </tbody>\n",
              "</table>\n",
              "</div>"
            ],
            "text/plain": [
              "    model      loss  accuracy  val_loss  val_accuracy\n",
              "0  model1  0.038110  0.987381  0.127144      0.967381\n",
              "1  model2  0.040895  0.986323  0.123926      0.967143\n",
              "2  model3  0.046800  0.985423  0.142812      0.964048"
            ]
          },
          "metadata": {
            "tags": []
          },
          "execution_count": 27
        }
      ]
    },
    {
      "cell_type": "markdown",
      "metadata": {
        "id": "CDEnn4E7sLzE",
        "colab_type": "text"
      },
      "source": [
        "### model4 - 4 hidden layers with 100 neurons"
      ]
    },
    {
      "cell_type": "code",
      "metadata": {
        "id": "sdt7xrgUsLzE",
        "colab_type": "code",
        "colab": {},
        "outputId": "691b11bc-7a33-4f96-f48c-4e92feb31564"
      },
      "source": [
        "model4 = Sequential()\n",
        "model4.add(Dense(100, activation='relu', input_shape=(input_shape,)))\n",
        "model4.add(Dense(100, activation='relu', input_shape=(input_shape,)))\n",
        "model4.add(Dense(100, activation='relu', input_shape=(input_shape,)))\n",
        "model4.add(Dense(100, activation='relu', input_shape=(input_shape,)))\n",
        "model4.add(Dense(10, activation='softmax'))\n",
        "model4.compile(optimizer='adam', loss='categorical_crossentropy', metrics=['accuracy'])\n",
        "history_model4 = model4.fit(X_train, y_train, nb_epoch=10, batch_size=16,validation_split=0.1)"
      ],
      "execution_count": null,
      "outputs": [
        {
          "output_type": "stream",
          "text": [
            "/opt/conda/lib/python3.7/site-packages/ipykernel_launcher.py:8: UserWarning: The `nb_epoch` argument in `fit` has been renamed `epochs`.\n",
            "  \n"
          ],
          "name": "stderr"
        },
        {
          "output_type": "stream",
          "text": [
            "Train on 37800 samples, validate on 4200 samples\n",
            "Epoch 1/10\n",
            "37800/37800 [==============================] - 7s 191us/step - loss: 0.3110 - accuracy: 0.9018 - val_loss: 0.1770 - val_accuracy: 0.9469\n",
            "Epoch 2/10\n",
            "37800/37800 [==============================] - 6s 164us/step - loss: 0.1581 - accuracy: 0.9512 - val_loss: 0.1806 - val_accuracy: 0.9476\n",
            "Epoch 3/10\n",
            "37800/37800 [==============================] - 6s 160us/step - loss: 0.1271 - accuracy: 0.9607 - val_loss: 0.1639 - val_accuracy: 0.9500\n",
            "Epoch 4/10\n",
            "37800/37800 [==============================] - 6s 162us/step - loss: 0.1046 - accuracy: 0.9671 - val_loss: 0.1419 - val_accuracy: 0.9538\n",
            "Epoch 5/10\n",
            "37800/37800 [==============================] - 7s 178us/step - loss: 0.0887 - accuracy: 0.9728 - val_loss: 0.1486 - val_accuracy: 0.9602\n",
            "Epoch 6/10\n",
            "37800/37800 [==============================] - 6s 162us/step - loss: 0.0779 - accuracy: 0.9756 - val_loss: 0.1209 - val_accuracy: 0.9688\n",
            "Epoch 7/10\n",
            "37800/37800 [==============================] - 6s 161us/step - loss: 0.0666 - accuracy: 0.9789 - val_loss: 0.1401 - val_accuracy: 0.9598\n",
            "Epoch 8/10\n",
            "37800/37800 [==============================] - 6s 159us/step - loss: 0.0647 - accuracy: 0.9801 - val_loss: 0.1131 - val_accuracy: 0.9705\n",
            "Epoch 9/10\n",
            "37800/37800 [==============================] - 6s 160us/step - loss: 0.0563 - accuracy: 0.9817 - val_loss: 0.1052 - val_accuracy: 0.9688\n",
            "Epoch 10/10\n",
            "37800/37800 [==============================] - 6s 159us/step - loss: 0.0535 - accuracy: 0.9826 - val_loss: 0.1318 - val_accuracy: 0.9662\n"
          ],
          "name": "stdout"
        }
      ]
    },
    {
      "cell_type": "code",
      "metadata": {
        "id": "EIcQbT3KsLzH",
        "colab_type": "code",
        "colab": {},
        "outputId": "cdebfdb9-8c76-4ee3-d605-4e4673fb498d"
      },
      "source": [
        "results = pd.DataFrame(data = {'model': ['model1', 'model2', 'model3', 'model4'], \n",
        "                               'loss': [history_model1.history['loss'][-1], history_model2.history['loss'][-1], history_model3.history['loss'][-1], history_model4.history['loss'][-1]], \n",
        "                               'accuracy': [history_model1.history['accuracy'][-1], history_model2.history['accuracy'][-1], history_model3.history['accuracy'][-1], history_model4.history['accuracy'][-1]], \n",
        "                               'val_loss': [history_model1.history['val_loss'][-1], history_model2.history['val_loss'][-1], history_model3.history['val_loss'][-1], history_model4.history['val_loss'][-1]], \n",
        "                               'val_accuracy': [history_model1.history['val_accuracy'][-1], history_model2.history['val_accuracy'][-1], history_model3.history['val_accuracy'][-1], history_model4.history['val_accuracy'][-1]]})\n",
        "results"
      ],
      "execution_count": null,
      "outputs": [
        {
          "output_type": "execute_result",
          "data": {
            "text/html": [
              "<div>\n",
              "<style scoped>\n",
              "    .dataframe tbody tr th:only-of-type {\n",
              "        vertical-align: middle;\n",
              "    }\n",
              "\n",
              "    .dataframe tbody tr th {\n",
              "        vertical-align: top;\n",
              "    }\n",
              "\n",
              "    .dataframe thead th {\n",
              "        text-align: right;\n",
              "    }\n",
              "</style>\n",
              "<table border=\"1\" class=\"dataframe\">\n",
              "  <thead>\n",
              "    <tr style=\"text-align: right;\">\n",
              "      <th></th>\n",
              "      <th>model</th>\n",
              "      <th>loss</th>\n",
              "      <th>accuracy</th>\n",
              "      <th>val_loss</th>\n",
              "      <th>val_accuracy</th>\n",
              "    </tr>\n",
              "  </thead>\n",
              "  <tbody>\n",
              "    <tr>\n",
              "      <th>0</th>\n",
              "      <td>model1</td>\n",
              "      <td>0.038110</td>\n",
              "      <td>0.987381</td>\n",
              "      <td>0.127144</td>\n",
              "      <td>0.967381</td>\n",
              "    </tr>\n",
              "    <tr>\n",
              "      <th>1</th>\n",
              "      <td>model2</td>\n",
              "      <td>0.040895</td>\n",
              "      <td>0.986323</td>\n",
              "      <td>0.123926</td>\n",
              "      <td>0.967143</td>\n",
              "    </tr>\n",
              "    <tr>\n",
              "      <th>2</th>\n",
              "      <td>model3</td>\n",
              "      <td>0.046800</td>\n",
              "      <td>0.985423</td>\n",
              "      <td>0.142812</td>\n",
              "      <td>0.964048</td>\n",
              "    </tr>\n",
              "    <tr>\n",
              "      <th>3</th>\n",
              "      <td>model4</td>\n",
              "      <td>0.053528</td>\n",
              "      <td>0.982619</td>\n",
              "      <td>0.131830</td>\n",
              "      <td>0.966190</td>\n",
              "    </tr>\n",
              "  </tbody>\n",
              "</table>\n",
              "</div>"
            ],
            "text/plain": [
              "    model      loss  accuracy  val_loss  val_accuracy\n",
              "0  model1  0.038110  0.987381  0.127144      0.967381\n",
              "1  model2  0.040895  0.986323  0.123926      0.967143\n",
              "2  model3  0.046800  0.985423  0.142812      0.964048\n",
              "3  model4  0.053528  0.982619  0.131830      0.966190"
            ]
          },
          "metadata": {
            "tags": []
          },
          "execution_count": 29
        }
      ]
    },
    {
      "cell_type": "markdown",
      "metadata": {
        "id": "jYFBFKgtsLzJ",
        "colab_type": "text"
      },
      "source": [
        "### model5 - 4 hidden layers with 50 neurons"
      ]
    },
    {
      "cell_type": "code",
      "metadata": {
        "id": "Tkb_YD9rsLzK",
        "colab_type": "code",
        "colab": {},
        "outputId": "e1c5093a-0cff-4b60-9bf7-09f07f39d086"
      },
      "source": [
        "model5 = Sequential()\n",
        "model5.add(Dense(50, activation='relu', input_shape=(input_shape,)))\n",
        "model5.add(Dense(50, activation='relu', input_shape=(input_shape,)))\n",
        "model5.add(Dense(50, activation='relu', input_shape=(input_shape,)))\n",
        "model5.add(Dense(50, activation='relu', input_shape=(input_shape,)))\n",
        "model5.add(Dense(10, activation='softmax'))\n",
        "model5.compile(optimizer='adam', loss='categorical_crossentropy', metrics=['accuracy'])\n",
        "history_model5 = model5.fit(X_train, y_train, nb_epoch=10, batch_size=16,validation_split=0.1)"
      ],
      "execution_count": null,
      "outputs": [
        {
          "output_type": "stream",
          "text": [
            "/opt/conda/lib/python3.7/site-packages/ipykernel_launcher.py:8: UserWarning: The `nb_epoch` argument in `fit` has been renamed `epochs`.\n",
            "  \n"
          ],
          "name": "stderr"
        },
        {
          "output_type": "stream",
          "text": [
            "Train on 37800 samples, validate on 4200 samples\n",
            "Epoch 1/10\n",
            "37800/37800 [==============================] - 5s 134us/step - loss: 0.3767 - accuracy: 0.8812 - val_loss: 0.2106 - val_accuracy: 0.9338\n",
            "Epoch 2/10\n",
            "37800/37800 [==============================] - 5s 134us/step - loss: 0.1877 - accuracy: 0.9421 - val_loss: 0.1723 - val_accuracy: 0.9502\n",
            "Epoch 3/10\n",
            "37800/37800 [==============================] - 5s 127us/step - loss: 0.1463 - accuracy: 0.9542 - val_loss: 0.1589 - val_accuracy: 0.9517\n",
            "Epoch 4/10\n",
            "37800/37800 [==============================] - 5s 126us/step - loss: 0.1195 - accuracy: 0.9631 - val_loss: 0.1610 - val_accuracy: 0.9521\n",
            "Epoch 5/10\n",
            "37800/37800 [==============================] - 5s 127us/step - loss: 0.1079 - accuracy: 0.9668 - val_loss: 0.1645 - val_accuracy: 0.9521\n",
            "Epoch 6/10\n",
            "37800/37800 [==============================] - 5s 134us/step - loss: 0.0970 - accuracy: 0.9692 - val_loss: 0.1572 - val_accuracy: 0.9543\n",
            "Epoch 7/10\n",
            "37800/37800 [==============================] - 5s 133us/step - loss: 0.0877 - accuracy: 0.9726 - val_loss: 0.1395 - val_accuracy: 0.9574\n",
            "Epoch 8/10\n",
            "37800/37800 [==============================] - 5s 127us/step - loss: 0.0789 - accuracy: 0.9747 - val_loss: 0.1617 - val_accuracy: 0.9521\n",
            "Epoch 9/10\n",
            "37800/37800 [==============================] - 5s 129us/step - loss: 0.0727 - accuracy: 0.9762 - val_loss: 0.1196 - val_accuracy: 0.9614\n",
            "Epoch 10/10\n",
            "37800/37800 [==============================] - 5s 127us/step - loss: 0.0654 - accuracy: 0.9789 - val_loss: 0.1490 - val_accuracy: 0.9586\n"
          ],
          "name": "stdout"
        }
      ]
    },
    {
      "cell_type": "code",
      "metadata": {
        "id": "Mwc0F9kgsLzN",
        "colab_type": "code",
        "colab": {},
        "outputId": "1e0db908-0cb3-45e0-9471-71fbf006496d"
      },
      "source": [
        "results = pd.DataFrame(data = {'model': ['model1', 'model2', 'model3', 'model4', 'model5'], \n",
        "                               'loss': [history_model1.history['loss'][-1], history_model2.history['loss'][-1], history_model3.history['loss'][-1], history_model4.history['loss'][-1], history_model5.history['loss'][-1]], \n",
        "                               'accuracy': [history_model1.history['accuracy'][-1], history_model2.history['accuracy'][-1], history_model3.history['accuracy'][-1], history_model4.history['accuracy'][-1], history_model5.history['accuracy'][-1]], \n",
        "                               'val_loss': [history_model1.history['val_loss'][-1], history_model2.history['val_loss'][-1], history_model3.history['val_loss'][-1], history_model4.history['val_loss'][-1], history_model5.history['val_loss'][-1]], \n",
        "                               'val_accuracy': [history_model1.history['val_accuracy'][-1], history_model2.history['val_accuracy'][-1], history_model3.history['val_accuracy'][-1], history_model4.history['val_accuracy'][-1], history_model5.history['val_accuracy'][-1]]})\n",
        "results"
      ],
      "execution_count": null,
      "outputs": [
        {
          "output_type": "execute_result",
          "data": {
            "text/html": [
              "<div>\n",
              "<style scoped>\n",
              "    .dataframe tbody tr th:only-of-type {\n",
              "        vertical-align: middle;\n",
              "    }\n",
              "\n",
              "    .dataframe tbody tr th {\n",
              "        vertical-align: top;\n",
              "    }\n",
              "\n",
              "    .dataframe thead th {\n",
              "        text-align: right;\n",
              "    }\n",
              "</style>\n",
              "<table border=\"1\" class=\"dataframe\">\n",
              "  <thead>\n",
              "    <tr style=\"text-align: right;\">\n",
              "      <th></th>\n",
              "      <th>model</th>\n",
              "      <th>loss</th>\n",
              "      <th>accuracy</th>\n",
              "      <th>val_loss</th>\n",
              "      <th>val_accuracy</th>\n",
              "    </tr>\n",
              "  </thead>\n",
              "  <tbody>\n",
              "    <tr>\n",
              "      <th>0</th>\n",
              "      <td>model1</td>\n",
              "      <td>0.038110</td>\n",
              "      <td>0.987381</td>\n",
              "      <td>0.127144</td>\n",
              "      <td>0.967381</td>\n",
              "    </tr>\n",
              "    <tr>\n",
              "      <th>1</th>\n",
              "      <td>model2</td>\n",
              "      <td>0.040895</td>\n",
              "      <td>0.986323</td>\n",
              "      <td>0.123926</td>\n",
              "      <td>0.967143</td>\n",
              "    </tr>\n",
              "    <tr>\n",
              "      <th>2</th>\n",
              "      <td>model3</td>\n",
              "      <td>0.046800</td>\n",
              "      <td>0.985423</td>\n",
              "      <td>0.142812</td>\n",
              "      <td>0.964048</td>\n",
              "    </tr>\n",
              "    <tr>\n",
              "      <th>3</th>\n",
              "      <td>model4</td>\n",
              "      <td>0.053528</td>\n",
              "      <td>0.982619</td>\n",
              "      <td>0.131830</td>\n",
              "      <td>0.966190</td>\n",
              "    </tr>\n",
              "    <tr>\n",
              "      <th>4</th>\n",
              "      <td>model5</td>\n",
              "      <td>0.065405</td>\n",
              "      <td>0.978889</td>\n",
              "      <td>0.149031</td>\n",
              "      <td>0.958571</td>\n",
              "    </tr>\n",
              "  </tbody>\n",
              "</table>\n",
              "</div>"
            ],
            "text/plain": [
              "    model      loss  accuracy  val_loss  val_accuracy\n",
              "0  model1  0.038110  0.987381  0.127144      0.967381\n",
              "1  model2  0.040895  0.986323  0.123926      0.967143\n",
              "2  model3  0.046800  0.985423  0.142812      0.964048\n",
              "3  model4  0.053528  0.982619  0.131830      0.966190\n",
              "4  model5  0.065405  0.978889  0.149031      0.958571"
            ]
          },
          "metadata": {
            "tags": []
          },
          "execution_count": 31
        }
      ]
    },
    {
      "cell_type": "markdown",
      "metadata": {
        "id": "TrE1ioG_sLzP",
        "colab_type": "text"
      },
      "source": [
        "### model6 - 3 hidden layers with 50 neurons"
      ]
    },
    {
      "cell_type": "code",
      "metadata": {
        "id": "CaTKWLuTsLzP",
        "colab_type": "code",
        "colab": {},
        "outputId": "33d3cb23-0261-43b3-bfc7-b8d1e8730e16"
      },
      "source": [
        "model6 = Sequential()\n",
        "model6.add(Dense(50, activation='relu', input_shape=(input_shape,)))\n",
        "model6.add(Dense(50, activation='relu', input_shape=(input_shape,)))\n",
        "model6.add(Dense(50, activation='relu', input_shape=(input_shape,)))\n",
        "model6.add(Dense(10, activation='softmax'))\n",
        "model6.compile(optimizer='adam', loss='categorical_crossentropy', metrics=['accuracy'])\n",
        "history_model6 = model6.fit(X_train, y_train, nb_epoch=10, batch_size=16,validation_split=0.1)"
      ],
      "execution_count": null,
      "outputs": [
        {
          "output_type": "stream",
          "text": [
            "/opt/conda/lib/python3.7/site-packages/ipykernel_launcher.py:7: UserWarning: The `nb_epoch` argument in `fit` has been renamed `epochs`.\n",
            "  import sys\n"
          ],
          "name": "stderr"
        },
        {
          "output_type": "stream",
          "text": [
            "Train on 37800 samples, validate on 4200 samples\n",
            "Epoch 1/10\n",
            "37800/37800 [==============================] - 5s 129us/step - loss: 0.3519 - accuracy: 0.8888 - val_loss: 0.1991 - val_accuracy: 0.9410\n",
            "Epoch 2/10\n",
            "37800/37800 [==============================] - 5s 124us/step - loss: 0.1768 - accuracy: 0.9458 - val_loss: 0.1549 - val_accuracy: 0.9524\n",
            "Epoch 3/10\n",
            "37800/37800 [==============================] - 5s 124us/step - loss: 0.1396 - accuracy: 0.9557 - val_loss: 0.1625 - val_accuracy: 0.9529\n",
            "Epoch 4/10\n",
            "37800/37800 [==============================] - 5s 141us/step - loss: 0.1182 - accuracy: 0.9624 - val_loss: 0.1583 - val_accuracy: 0.9555\n",
            "Epoch 5/10\n",
            "37800/37800 [==============================] - 5s 129us/step - loss: 0.1009 - accuracy: 0.9665 - val_loss: 0.1307 - val_accuracy: 0.9602\n",
            "Epoch 6/10\n",
            "37800/37800 [==============================] - 5s 124us/step - loss: 0.0915 - accuracy: 0.9712 - val_loss: 0.1234 - val_accuracy: 0.9621\n",
            "Epoch 7/10\n",
            "37800/37800 [==============================] - 5s 123us/step - loss: 0.0831 - accuracy: 0.9731 - val_loss: 0.1281 - val_accuracy: 0.9664\n",
            "Epoch 8/10\n",
            "37800/37800 [==============================] - 5s 127us/step - loss: 0.0721 - accuracy: 0.9768 - val_loss: 0.1458 - val_accuracy: 0.9574\n",
            "Epoch 9/10\n",
            "37800/37800 [==============================] - 5s 127us/step - loss: 0.0663 - accuracy: 0.9786 - val_loss: 0.1806 - val_accuracy: 0.9526\n",
            "Epoch 10/10\n",
            "37800/37800 [==============================] - 5s 127us/step - loss: 0.0615 - accuracy: 0.9795 - val_loss: 0.1385 - val_accuracy: 0.9569\n"
          ],
          "name": "stdout"
        }
      ]
    },
    {
      "cell_type": "code",
      "metadata": {
        "id": "8h1QatFVsLzS",
        "colab_type": "code",
        "colab": {},
        "outputId": "9535da1a-fefc-4760-a320-fc3e1bd8e0c9"
      },
      "source": [
        "results = pd.DataFrame(data = {'model': ['model1', 'model2', 'model3', 'model4', 'model5', 'model6'], \n",
        "                               'loss': [history_model1.history['loss'][-1], history_model2.history['loss'][-1], history_model3.history['loss'][-1], history_model4.history['loss'][-1], history_model5.history['loss'][-1], history_model6.history['loss'][-1]], \n",
        "                               'accuracy': [history_model1.history['accuracy'][-1], history_model2.history['accuracy'][-1], history_model3.history['accuracy'][-1], history_model4.history['accuracy'][-1], history_model5.history['accuracy'][-1], history_model6.history['accuracy'][-1]], \n",
        "                               'val_loss': [history_model1.history['val_loss'][-1], history_model2.history['val_loss'][-1], history_model3.history['val_loss'][-1], history_model4.history['val_loss'][-1], history_model5.history['val_loss'][-1], history_model6.history['val_loss'][-1]], \n",
        "                               'val_accuracy': [history_model1.history['val_accuracy'][-1], history_model2.history['val_accuracy'][-1], history_model3.history['val_accuracy'][-1], history_model4.history['val_accuracy'][-1], history_model5.history['val_accuracy'][-1], history_model6.history['val_accuracy'][-1]]})\n",
        "results"
      ],
      "execution_count": null,
      "outputs": [
        {
          "output_type": "execute_result",
          "data": {
            "text/html": [
              "<div>\n",
              "<style scoped>\n",
              "    .dataframe tbody tr th:only-of-type {\n",
              "        vertical-align: middle;\n",
              "    }\n",
              "\n",
              "    .dataframe tbody tr th {\n",
              "        vertical-align: top;\n",
              "    }\n",
              "\n",
              "    .dataframe thead th {\n",
              "        text-align: right;\n",
              "    }\n",
              "</style>\n",
              "<table border=\"1\" class=\"dataframe\">\n",
              "  <thead>\n",
              "    <tr style=\"text-align: right;\">\n",
              "      <th></th>\n",
              "      <th>model</th>\n",
              "      <th>loss</th>\n",
              "      <th>accuracy</th>\n",
              "      <th>val_loss</th>\n",
              "      <th>val_accuracy</th>\n",
              "    </tr>\n",
              "  </thead>\n",
              "  <tbody>\n",
              "    <tr>\n",
              "      <th>0</th>\n",
              "      <td>model1</td>\n",
              "      <td>0.038110</td>\n",
              "      <td>0.987381</td>\n",
              "      <td>0.127144</td>\n",
              "      <td>0.967381</td>\n",
              "    </tr>\n",
              "    <tr>\n",
              "      <th>1</th>\n",
              "      <td>model2</td>\n",
              "      <td>0.040895</td>\n",
              "      <td>0.986323</td>\n",
              "      <td>0.123926</td>\n",
              "      <td>0.967143</td>\n",
              "    </tr>\n",
              "    <tr>\n",
              "      <th>2</th>\n",
              "      <td>model3</td>\n",
              "      <td>0.046800</td>\n",
              "      <td>0.985423</td>\n",
              "      <td>0.142812</td>\n",
              "      <td>0.964048</td>\n",
              "    </tr>\n",
              "    <tr>\n",
              "      <th>3</th>\n",
              "      <td>model4</td>\n",
              "      <td>0.053528</td>\n",
              "      <td>0.982619</td>\n",
              "      <td>0.131830</td>\n",
              "      <td>0.966190</td>\n",
              "    </tr>\n",
              "    <tr>\n",
              "      <th>4</th>\n",
              "      <td>model5</td>\n",
              "      <td>0.065405</td>\n",
              "      <td>0.978889</td>\n",
              "      <td>0.149031</td>\n",
              "      <td>0.958571</td>\n",
              "    </tr>\n",
              "    <tr>\n",
              "      <th>5</th>\n",
              "      <td>model6</td>\n",
              "      <td>0.061499</td>\n",
              "      <td>0.979497</td>\n",
              "      <td>0.138459</td>\n",
              "      <td>0.956905</td>\n",
              "    </tr>\n",
              "  </tbody>\n",
              "</table>\n",
              "</div>"
            ],
            "text/plain": [
              "    model      loss  accuracy  val_loss  val_accuracy\n",
              "0  model1  0.038110  0.987381  0.127144      0.967381\n",
              "1  model2  0.040895  0.986323  0.123926      0.967143\n",
              "2  model3  0.046800  0.985423  0.142812      0.964048\n",
              "3  model4  0.053528  0.982619  0.131830      0.966190\n",
              "4  model5  0.065405  0.978889  0.149031      0.958571\n",
              "5  model6  0.061499  0.979497  0.138459      0.956905"
            ]
          },
          "metadata": {
            "tags": []
          },
          "execution_count": 33
        }
      ]
    },
    {
      "cell_type": "markdown",
      "metadata": {
        "id": "oAfmaztQsLzW",
        "colab_type": "text"
      },
      "source": [
        "**About the results**:\n",
        "* It is worse when add layers\n",
        "* To decrease neurons number do not make the results better\n",
        "* For this configuration and model, model1 provides the bests results"
      ]
    },
    {
      "cell_type": "markdown",
      "metadata": {
        "id": "Hf3E8-HwsLzY",
        "colab_type": "text"
      },
      "source": [
        "### Some results about model1"
      ]
    },
    {
      "cell_type": "code",
      "metadata": {
        "id": "hP0qsGB6sLzZ",
        "colab_type": "code",
        "colab": {},
        "outputId": "e4f07529-6494-4d8e-ef3e-3b71d8fc1c6e"
      },
      "source": [
        "plt.plot(history_model1.history['val_loss'])\n",
        "plt.xlabel('Epochs')\n",
        "plt.ylabel('Validation score')\n",
        "plt.show()"
      ],
      "execution_count": null,
      "outputs": [
        {
          "output_type": "display_data",
          "data": {
            "image/png": "[encoded data removed]",
            "text/plain": [
              "<Figure size 432x288 with 1 Axes>"
            ]
          },
          "metadata": {
            "tags": [],
            "needs_background": "light"
          }
        }
      ]
    },
    {
      "cell_type": "code",
      "metadata": {
        "id": "FwB8x7NOsLzf",
        "colab_type": "code",
        "colab": {}
      },
      "source": [
        "preds_model1 = model1.predict_classes(X_test, verbose=0)"
      ],
      "execution_count": null,
      "outputs": []
    },
    {
      "cell_type": "code",
      "metadata": {
        "id": "qyEdggJasLzi",
        "colab_type": "code",
        "colab": {}
      },
      "source": [
        "y_pred = model1.predict(X_test)\n",
        "y_predict_classes = model1.predict_classes(X_test)"
      ],
      "execution_count": null,
      "outputs": []
    },
    {
      "cell_type": "code",
      "metadata": {
        "id": "DU4Leaz5sLzk",
        "colab_type": "code",
        "colab": {},
        "outputId": "4d6d3d2a-db9c-481f-c06b-ec082355fb71"
      },
      "source": [
        "y_predict_classes"
      ],
      "execution_count": null,
      "outputs": [
        {
          "output_type": "execute_result",
          "data": {
            "text/plain": [
              "array([2, 0, 9, ..., 3, 9, 2])"
            ]
          },
          "metadata": {
            "tags": []
          },
          "execution_count": 37
        }
      ]
    },
    {
      "cell_type": "code",
      "metadata": {
        "id": "mHxUj9LWsLzo",
        "colab_type": "code",
        "colab": {}
      },
      "source": [
        "y_test = pd.read_csv('/content/drive/My Drive/Datasets/digit-recognizer/sample_submission.csv')\n",
        "y_test = y_test['Label']\n",
        "y_test = y_test.astype('int32')"
      ],
      "execution_count": null,
      "outputs": []
    },
    {
      "cell_type": "code",
      "metadata": {
        "collapsed": true,
        "id": "mFhEryPnsLzt",
        "colab_type": "code",
        "colab": {},
        "outputId": "89f4ce79-835b-4dfe-e526-e20637ce3201"
      },
      "source": [
        "Y_pred = np.argmax(y_pred, 1)\n",
        "print(Y_pred)"
      ],
      "execution_count": null,
      "outputs": [
        {
          "output_type": "stream",
          "text": [
            "[2 0 9 ... 3 9 2]\n"
          ],
          "name": "stdout"
        }
      ]
    },
    {
      "cell_type": "code",
      "metadata": {
        "id": "j8YuWeE4sLzy",
        "colab_type": "code",
        "colab": {}
      },
      "source": [
        "def write_preds(preds, fname):\n",
        "    pd.DataFrame({\"ImageId\": list(range(1,len(preds)+1)), \"Label\": preds}).to_csv(fname, index=False, header=True)\n"
      ],
      "execution_count": null,
      "outputs": []
    },
    {
      "cell_type": "code",
      "metadata": {
        "id": "_7xQztKosLz5",
        "colab_type": "code",
        "colab": {}
      },
      "source": [
        "write_preds(y_predict_classes, \"to_submit.csv\")"
      ],
      "execution_count": null,
      "outputs": []
    },
    {
      "cell_type": "code",
      "metadata": {
        "id": "eRuiJSuSsLz9",
        "colab_type": "code",
        "colab": {},
        "outputId": "b640f558-8360-4319-87cb-d17691809356"
      },
      "source": [
        "pd.read_csv('to_submit.csv')"
      ],
      "execution_count": null,
      "outputs": [
        {
          "output_type": "execute_result",
          "data": {
            "text/html": [
              "<div>\n",
              "<style scoped>\n",
              "    .dataframe tbody tr th:only-of-type {\n",
              "        vertical-align: middle;\n",
              "    }\n",
              "\n",
              "    .dataframe tbody tr th {\n",
              "        vertical-align: top;\n",
              "    }\n",
              "\n",
              "    .dataframe thead th {\n",
              "        text-align: right;\n",
              "    }\n",
              "</style>\n",
              "<table border=\"1\" class=\"dataframe\">\n",
              "  <thead>\n",
              "    <tr style=\"text-align: right;\">\n",
              "      <th></th>\n",
              "      <th>ImageId</th>\n",
              "      <th>Label</th>\n",
              "    </tr>\n",
              "  </thead>\n",
              "  <tbody>\n",
              "    <tr>\n",
              "      <th>0</th>\n",
              "      <td>1</td>\n",
              "      <td>2</td>\n",
              "    </tr>\n",
              "    <tr>\n",
              "      <th>1</th>\n",
              "      <td>2</td>\n",
              "      <td>0</td>\n",
              "    </tr>\n",
              "    <tr>\n",
              "      <th>2</th>\n",
              "      <td>3</td>\n",
              "      <td>9</td>\n",
              "    </tr>\n",
              "    <tr>\n",
              "      <th>3</th>\n",
              "      <td>4</td>\n",
              "      <td>9</td>\n",
              "    </tr>\n",
              "    <tr>\n",
              "      <th>4</th>\n",
              "      <td>5</td>\n",
              "      <td>3</td>\n",
              "    </tr>\n",
              "    <tr>\n",
              "      <th>...</th>\n",
              "      <td>...</td>\n",
              "      <td>...</td>\n",
              "    </tr>\n",
              "    <tr>\n",
              "      <th>27995</th>\n",
              "      <td>27996</td>\n",
              "      <td>9</td>\n",
              "    </tr>\n",
              "    <tr>\n",
              "      <th>27996</th>\n",
              "      <td>27997</td>\n",
              "      <td>7</td>\n",
              "    </tr>\n",
              "    <tr>\n",
              "      <th>27997</th>\n",
              "      <td>27998</td>\n",
              "      <td>3</td>\n",
              "    </tr>\n",
              "    <tr>\n",
              "      <th>27998</th>\n",
              "      <td>27999</td>\n",
              "      <td>9</td>\n",
              "    </tr>\n",
              "    <tr>\n",
              "      <th>27999</th>\n",
              "      <td>28000</td>\n",
              "      <td>2</td>\n",
              "    </tr>\n",
              "  </tbody>\n",
              "</table>\n",
              "<p>28000 rows × 2 columns</p>\n",
              "</div>"
            ],
            "text/plain": [
              "       ImageId  Label\n",
              "0            1      2\n",
              "1            2      0\n",
              "2            3      9\n",
              "3            4      9\n",
              "4            5      3\n",
              "...        ...    ...\n",
              "27995    27996      9\n",
              "27996    27997      7\n",
              "27997    27998      3\n",
              "27998    27999      9\n",
              "27999    28000      2\n",
              "\n",
              "[28000 rows x 2 columns]"
            ]
          },
          "metadata": {
            "tags": []
          },
          "execution_count": 42
        }
      ]
    }
  ]
}
